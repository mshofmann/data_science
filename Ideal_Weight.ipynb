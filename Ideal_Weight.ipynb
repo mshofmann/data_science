{
 "cells": [
  {
   "cell_type": "markdown",
   "metadata": {},
   "source": [
    "# Using Actual vs Ideal Weight to Predict Gender\n",
    "\n",
    "Using a data set of actual vs ideal weight, we'll look to classify the gender of new individuals using a Naive Bayes classifier. The Naive Bayes classifier is a simple but robust classifier, especially with small datasets."
   ]
  },
  {
   "cell_type": "code",
   "execution_count": 1,
   "metadata": {
    "collapsed": true
   },
   "outputs": [],
   "source": [
    "%matplotlib inline\n",
    "import pandas as pd\n",
    "import matplotlib.pyplot as plt\n",
    "import numpy as np\n",
    "from sklearn.naive_bayes import GaussianNB"
   ]
  },
  {
   "cell_type": "markdown",
   "metadata": {},
   "source": [
    "Step 1: Exploratory Data Analysis (EDA): Read in, clean, and visualize the data to get an idea of what we're looking at."
   ]
  },
  {
   "cell_type": "code",
   "execution_count": 2,
   "metadata": {
    "collapsed": false
   },
   "outputs": [
    {
     "data": {
      "text/html": [
       "<div>\n",
       "<table border=\"1\" class=\"dataframe\">\n",
       "  <thead>\n",
       "    <tr style=\"text-align: right;\">\n",
       "      <th></th>\n",
       "      <th>'sex'</th>\n",
       "      <th>'actual'</th>\n",
       "      <th>'ideal'</th>\n",
       "      <th>'diff'</th>\n",
       "    </tr>\n",
       "  </thead>\n",
       "  <tbody>\n",
       "    <tr>\n",
       "      <th>0</th>\n",
       "      <td>'Male'</td>\n",
       "      <td>215</td>\n",
       "      <td>190</td>\n",
       "      <td>25</td>\n",
       "    </tr>\n",
       "    <tr>\n",
       "      <th>1</th>\n",
       "      <td>'Female'</td>\n",
       "      <td>155</td>\n",
       "      <td>135</td>\n",
       "      <td>20</td>\n",
       "    </tr>\n",
       "    <tr>\n",
       "      <th>2</th>\n",
       "      <td>'Male'</td>\n",
       "      <td>195</td>\n",
       "      <td>155</td>\n",
       "      <td>40</td>\n",
       "    </tr>\n",
       "    <tr>\n",
       "      <th>3</th>\n",
       "      <td>'Female'</td>\n",
       "      <td>145</td>\n",
       "      <td>130</td>\n",
       "      <td>15</td>\n",
       "    </tr>\n",
       "    <tr>\n",
       "      <th>4</th>\n",
       "      <td>'Female'</td>\n",
       "      <td>110</td>\n",
       "      <td>100</td>\n",
       "      <td>10</td>\n",
       "    </tr>\n",
       "  </tbody>\n",
       "</table>\n",
       "</div>"
      ],
      "text/plain": [
       "      'sex'  'actual'  'ideal'  'diff'\n",
       "0    'Male'       215      190      25\n",
       "1  'Female'       155      135      20\n",
       "2    'Male'       195      155      40\n",
       "3  'Female'       145      130      15\n",
       "4  'Female'       110      100      10"
      ]
     },
     "execution_count": 2,
     "metadata": {},
     "output_type": "execute_result"
    }
   ],
   "source": [
    "# https://github.com/Thinkful-Ed/curric-data-001-data-sets/blob/master/ideal-weight/ideal_weight.csv\n",
    "df = pd.read_csv('ideal_weight.csv', usecols=[1,2,3,4])\n",
    "df.head()"
   ]
  },
  {
   "cell_type": "code",
   "execution_count": 3,
   "metadata": {
    "collapsed": false
   },
   "outputs": [
    {
     "data": {
      "text/html": [
       "<div>\n",
       "<table border=\"1\" class=\"dataframe\">\n",
       "  <thead>\n",
       "    <tr style=\"text-align: right;\">\n",
       "      <th></th>\n",
       "      <th>sex</th>\n",
       "      <th>actual</th>\n",
       "      <th>ideal</th>\n",
       "      <th>diff</th>\n",
       "    </tr>\n",
       "  </thead>\n",
       "  <tbody>\n",
       "    <tr>\n",
       "      <th>0</th>\n",
       "      <td>Male</td>\n",
       "      <td>215</td>\n",
       "      <td>190</td>\n",
       "      <td>25</td>\n",
       "    </tr>\n",
       "    <tr>\n",
       "      <th>1</th>\n",
       "      <td>Female</td>\n",
       "      <td>155</td>\n",
       "      <td>135</td>\n",
       "      <td>20</td>\n",
       "    </tr>\n",
       "    <tr>\n",
       "      <th>2</th>\n",
       "      <td>Male</td>\n",
       "      <td>195</td>\n",
       "      <td>155</td>\n",
       "      <td>40</td>\n",
       "    </tr>\n",
       "    <tr>\n",
       "      <th>3</th>\n",
       "      <td>Female</td>\n",
       "      <td>145</td>\n",
       "      <td>130</td>\n",
       "      <td>15</td>\n",
       "    </tr>\n",
       "    <tr>\n",
       "      <th>4</th>\n",
       "      <td>Female</td>\n",
       "      <td>110</td>\n",
       "      <td>100</td>\n",
       "      <td>10</td>\n",
       "    </tr>\n",
       "  </tbody>\n",
       "</table>\n",
       "</div>"
      ],
      "text/plain": [
       "      sex  actual  ideal  diff\n",
       "0    Male     215    190    25\n",
       "1  Female     155    135    20\n",
       "2    Male     195    155    40\n",
       "3  Female     145    130    15\n",
       "4  Female     110    100    10"
      ]
     },
     "execution_count": 3,
     "metadata": {},
     "output_type": "execute_result"
    }
   ],
   "source": [
    "df = df.rename(columns=lambda x: x.replace('\\'',''))\n",
    "df['sex'] = df['sex'].str.replace('\\'','')\n",
    "df['sex'] = df['sex'].astype('category')\n",
    "df.head()"
   ]
  },
  {
   "cell_type": "code",
   "execution_count": 4,
   "metadata": {
    "collapsed": false
   },
   "outputs": [
    {
     "data": {
      "text/html": [
       "<div>\n",
       "<table border=\"1\" class=\"dataframe\">\n",
       "  <thead>\n",
       "    <tr style=\"text-align: right;\">\n",
       "      <th></th>\n",
       "      <th>actual</th>\n",
       "      <th>ideal</th>\n",
       "      <th>diff</th>\n",
       "    </tr>\n",
       "  </thead>\n",
       "  <tbody>\n",
       "    <tr>\n",
       "      <th>count</th>\n",
       "      <td>182.000000</td>\n",
       "      <td>182.000000</td>\n",
       "      <td>182.000000</td>\n",
       "    </tr>\n",
       "    <tr>\n",
       "      <th>mean</th>\n",
       "      <td>147.774725</td>\n",
       "      <td>139.950549</td>\n",
       "      <td>7.824176</td>\n",
       "    </tr>\n",
       "    <tr>\n",
       "      <th>std</th>\n",
       "      <td>30.317269</td>\n",
       "      <td>29.750580</td>\n",
       "      <td>12.759651</td>\n",
       "    </tr>\n",
       "    <tr>\n",
       "      <th>min</th>\n",
       "      <td>90.000000</td>\n",
       "      <td>85.000000</td>\n",
       "      <td>-35.000000</td>\n",
       "    </tr>\n",
       "    <tr>\n",
       "      <th>25%</th>\n",
       "      <td>125.000000</td>\n",
       "      <td>120.000000</td>\n",
       "      <td>0.000000</td>\n",
       "    </tr>\n",
       "    <tr>\n",
       "      <th>50%</th>\n",
       "      <td>140.000000</td>\n",
       "      <td>130.000000</td>\n",
       "      <td>7.000000</td>\n",
       "    </tr>\n",
       "    <tr>\n",
       "      <th>75%</th>\n",
       "      <td>170.000000</td>\n",
       "      <td>164.500000</td>\n",
       "      <td>11.000000</td>\n",
       "    </tr>\n",
       "    <tr>\n",
       "      <th>max</th>\n",
       "      <td>235.000000</td>\n",
       "      <td>225.000000</td>\n",
       "      <td>55.000000</td>\n",
       "    </tr>\n",
       "  </tbody>\n",
       "</table>\n",
       "</div>"
      ],
      "text/plain": [
       "           actual       ideal        diff\n",
       "count  182.000000  182.000000  182.000000\n",
       "mean   147.774725  139.950549    7.824176\n",
       "std     30.317269   29.750580   12.759651\n",
       "min     90.000000   85.000000  -35.000000\n",
       "25%    125.000000  120.000000    0.000000\n",
       "50%    140.000000  130.000000    7.000000\n",
       "75%    170.000000  164.500000   11.000000\n",
       "max    235.000000  225.000000   55.000000"
      ]
     },
     "execution_count": 4,
     "metadata": {},
     "output_type": "execute_result"
    }
   ],
   "source": [
    "df.describe()"
   ]
  },
  {
   "cell_type": "code",
   "execution_count": 5,
   "metadata": {
    "collapsed": false
   },
   "outputs": [
    {
     "data": {
      "image/png": "[encoded data removed]",
      "text/plain": [
       "<matplotlib.figure.Figure at 0x438ad554e0>"
      ]
     },
     "metadata": {},
     "output_type": "display_data"
    }
   ],
   "source": [
    "bins = np.linspace(80, 240, 20)\n",
    "\n",
    "plt.figure(figsize=(10,6))\n",
    "plt.hist(df['actual'], bins, alpha=0.5, color='r')\n",
    "plt.hist(df['ideal'], bins, alpha=0.5, color='gray')\n",
    "plt.legend(['Actual','Ideal'])\n",
    "plt.xlabel('Weight')\n",
    "plt.ylabel('Volume')\n",
    "plt.title('Actual vs Ideal Weight');"
   ]
  },
  {
   "cell_type": "markdown",
   "metadata": {},
   "source": [
    "At first glance it seems that this dataset skews toward overweight."
   ]
  },
  {
   "cell_type": "code",
   "execution_count": 6,
   "metadata": {
    "collapsed": false
   },
   "outputs": [
    {
     "data": {
      "text/plain": [
       "Female    119\n",
       "Male       63\n",
       "dtype: int64"
      ]
     },
     "execution_count": 6,
     "metadata": {},
     "output_type": "execute_result"
    }
   ],
   "source": [
    "df['sex'].value_counts()"
   ]
  },
  {
   "cell_type": "markdown",
   "metadata": {},
   "source": [
    "There are almost twice as many females in this dataset, which may pose a problem in making valid predictions."
   ]
  },
  {
   "cell_type": "code",
   "execution_count": 7,
   "metadata": {
    "collapsed": false
   },
   "outputs": [
    {
     "data": {
      "image/png": "[encoded data removed]",
      "text/plain": [
       "<matplotlib.figure.Figure at 0x438b2256a0>"
      ]
     },
     "metadata": {},
     "output_type": "display_data"
    }
   ],
   "source": [
    "bins = np.linspace(-40, 60, 30)\n",
    "plt.figure(figsize=(10,6))\n",
    "plt.hist(df['diff'][df['sex']=='Male'], bins, alpha=0.5)\n",
    "plt.hist(df['diff'][df['sex']=='Female'], bins, alpha=0.5)\n",
    "plt.legend(['Male','Female'])\n",
    "plt.title('Difference between actual and ideal weight')\n",
    "plt.xlabel('Difference')\n",
    "plt.ylabel('Volume');"
   ]
  },
  {
   "cell_type": "code",
   "execution_count": 8,
   "metadata": {
    "collapsed": false
   },
   "outputs": [
    {
     "data": {
      "image/png": "[encoded data removed]",
      "text/plain": [
       "<matplotlib.figure.Figure at 0x438ad87470>"
      ]
     },
     "metadata": {},
     "output_type": "display_data"
    }
   ],
   "source": [
    "g = lambda x: 'over' if x > 0 else 'on' if x == 0 else 'under'\n",
    "df['over_on_under'] = df['diff'].map(g)\n",
    "\n",
    "loc = np.arange(3)\n",
    "w = 0.5\n",
    "plt.figure(figsize=(10,6))\n",
    "plt.bar(loc, df['over_on_under'][df['sex']=='Male'].value_counts(), \n",
    "        width=w, alpha=0.5, color='b')\n",
    "plt.bar(loc, df['over_on_under'][df['sex']=='Female'].value_counts(), \n",
    "        width=w, alpha=0.5, color='g')\n",
    "plt.xticks(loc + w/2., ('Overweight','On Target','Underweight'))\n",
    "\n",
    "plt.title('Weight Result by Gender')\n",
    "plt.xlabel('Weight Result')\n",
    "plt.ylabel('Volume')\n",
    "plt.legend(('Male','Female'));"
   ]
  },
  {
   "cell_type": "markdown",
   "metadata": {},
   "source": [
    "The distribution of men across the spectrum of underweight to overweight is fairly constant, while for the women this dataset is almost entirely overweight. This dataset is hardly representative of reality (cf https://www.niddk.nih.gov/health-information/health-statistics/Pages/overweight-obesity-statistics.aspx).  \n",
    "  \n",
    "New individuals introduced to a model based off of this dataset who are overweight will likely be classified as female."
   ]
  },
  {
   "cell_type": "markdown",
   "metadata": {},
   "source": [
    "Step 2: Define and fit the classifier, and measure its accuracy."
   ]
  },
  {
   "cell_type": "code",
   "execution_count": 9,
   "metadata": {
    "collapsed": false
   },
   "outputs": [
    {
     "name": "stdout",
     "output_type": "stream",
     "text": [
      "Number of mislabeled points out of a total 182 points : 14\n",
      "\n",
      "Accuracy = 0.9230769230769231\n"
     ]
    }
   ],
   "source": [
    "X = df[['actual','ideal','diff']]\n",
    "y = df['sex']\n",
    "\n",
    "gnb = GaussianNB()\n",
    "y_pred = gnb.fit(X, y).predict(X)\n",
    "miss = (y != y_pred).sum()\n",
    "print('Number of mislabeled points out of a total %d points : %d' % \\\n",
    "       (len(X), miss))\n",
    "print('\\nAccuracy = {}'.format((len(X)-miss)/len(X)))"
   ]
  },
  {
   "cell_type": "markdown",
   "metadata": {},
   "source": [
    "Step 3: Now introduce some new individuals. What does the classifier predict their gender to be?"
   ]
  },
  {
   "cell_type": "code",
   "execution_count": 10,
   "metadata": {
    "collapsed": false,
    "scrolled": true
   },
   "outputs": [
    {
     "name": "stdout",
     "output_type": "stream",
     "text": [
      "An individual weighing 145 lbs who is 15 lbs underweight:\n",
      "['Male']\n"
     ]
    }
   ],
   "source": [
    "print('An individual weighing 145 lbs who is 15 lbs underweight:')\n",
    "print(gnb.predict([[145, 160, -15]]))"
   ]
  },
  {
   "cell_type": "code",
   "execution_count": 11,
   "metadata": {
    "collapsed": false
   },
   "outputs": [
    {
     "name": "stdout",
     "output_type": "stream",
     "text": [
      "An individual weighing 160 lbs who is 15 lbs overweight:\n",
      "['Female']\n"
     ]
    }
   ],
   "source": [
    "print('An individual weighing 160 lbs who is 15 lbs overweight:')\n",
    "print(gnb.predict([[160, 145, 15]]))"
   ]
  },
  {
   "cell_type": "code",
   "execution_count": 12,
   "metadata": {
    "collapsed": false,
    "scrolled": true
   },
   "outputs": [
    {
     "name": "stdout",
     "output_type": "stream",
     "text": [
      "An individual weighing 160 lbs who is 0 lbs overweight:\n",
      "['Male']\n"
     ]
    }
   ],
   "source": [
    "print('An individual weighing 160 lbs who is 0 lbs overweight:')\n",
    "print(gnb.predict([[160, 160, 0]]))"
   ]
  },
  {
   "cell_type": "markdown",
   "metadata": {},
   "source": [
    "Conclusion: The model achieved a decent accuracy rate, and seems to be classifying new individuals as would be expected given the dataset. I would start over with a more representative dataset that also used a more equal number of each of the genders, and then use Naive Bayes again for the same task."
   ]
  }
 ],
 "metadata": {
  "kernelspec": {
   "display_name": "Python 3",
   "language": "python",
   "name": "python3"
  },
  "language_info": {
   "codemirror_mode": {
    "name": "ipython",
    "version": 3
   },
   "file_extension": ".py",
   "mimetype": "text/x-python",
   "name": "python",
   "nbconvert_exporter": "python",
   "pygments_lexer": "ipython3",
   "version": "3.5.2"
  }
 },
 "nbformat": 4,
 "nbformat_minor": 0
}
