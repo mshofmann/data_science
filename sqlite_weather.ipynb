{
 "cells": [
  {
   "cell_type": "code",
   "execution_count": 5,
   "metadata": {
    "collapsed": true
   },
   "outputs": [],
   "source": [
    "import sqlite3 as lite\n",
    "import pandas as pd\n",
    "\n",
    "\n",
    "cities = (('New York City', 'NY'),\n",
    "          ('Boston', 'MA'),\n",
    "          ('Chicago', 'IL'),\n",
    "          ('Miami', 'FL'),\n",
    "          ('Dallas', 'TX'),\n",
    "          ('Seattle', 'WA'),\n",
    "          ('Portland', 'OR'),\n",
    "          ('San Francisco', 'CA'),\n",
    "          ('Los Angeles', 'CA'),\n",
    "          ('Washington', 'DC'),\n",
    "          ('Houston', 'TX'),\n",
    "          ('Las Vegas', 'NV'),\n",
    "          ('Atlanta', 'GA'))\n",
    "weather = (('New York City', 2013, 'July', 'January', 62),\n",
    "          ('Boston', 2013, 'July', 'January', 59),\n",
    "          ('Chicago', 2013, 'July', 'January', 59),\n",
    "          ('Miami', 2013, 'August', 'January', 84),\n",
    "          ('Dallas', 2013, 'July', 'January', 77),\n",
    "          ('Seattle', 2013, 'July', 'January', 61),\n",
    "          ('Portland', 2013, 'July', 'December', 63),\n",
    "          ('San Francisco', 2013, 'September', 'December', 64),\n",
    "          ('Los Angeles', 2013, 'September', 'December', 75),\n",
    "          ('Washington', 2013 , 'July', 'January', 77),\n",
    "          ('Houston', 2013, 'July', 'January', 80),\n",
    "          ('Las Vegas', 2013, 'July', 'December', 81),\n",
    "          ('Atlanta', 2013, 'July', 'January', 80))"
   ]
  },
  {
   "cell_type": "code",
   "execution_count": 6,
   "metadata": {
    "collapsed": true
   },
   "outputs": [],
   "source": [
    "con = lite.connect('weather_data.db')\n",
    "\n",
    "with con:\n",
    "    cur = con.cursor()\n",
    "    cur.execute('drop table if exists cities;')\n",
    "    cur.execute('drop table if exists weather;')\n",
    "    cur.execute('create table cities (name text, state text);')\n",
    "    cur.executemany('insert into cities values (?,?);', cities)\n",
    "    cur.execute('create table weather (city text, year integer, warm_month text, \\\n",
    "               cold_month text, average_high integer);')\n",
    "    cur.executemany('insert into weather values (?,?,?,?,?);', weather)\n",
    "    cur.execute(\"select name, state, warm_month from cities \\\n",
    "                 join weather on name = city where warm_month = 'July';\")\n",
    "    rows = cur.fetchall()\n",
    "    cols = [desc[0] for desc in cur.description]\n",
    "    df = pd.DataFrame(rows, columns = cols)"
   ]
  },
  {
   "cell_type": "code",
   "execution_count": 7,
   "metadata": {
    "collapsed": false
   },
   "outputs": [
    {
     "name": "stdout",
     "output_type": "stream",
     "text": [
      "The cities that are warmest in July are: New York City, NY, Boston, MA, Chicago, IL, Dallas, TX, Seattle, WA, Portland, OR, Washington, DC, Houston, TX, Las Vegas, NV and Atlanta, GA.\n"
     ]
    }
   ],
   "source": [
    "results = [x for x in (df['name'] + ', ' + df['state'])]\n",
    "print('The cities that are warmest in July are: {} and {}.'.format(', '.join(results[:-1]), \n",
    "                                                                   results[-1]))"
   ]
  }
 ],
 "metadata": {
  "kernelspec": {
   "display_name": "Python 3",
   "language": "python",
   "name": "python3"
  },
  "language_info": {
   "codemirror_mode": {
    "name": "ipython",
    "version": 3
   },
   "file_extension": ".py",
   "mimetype": "text/x-python",
   "name": "python",
   "nbconvert_exporter": "python",
   "pygments_lexer": "ipython3",
   "version": "3.5.1"
  }
 },
 "nbformat": 4,
 "nbformat_minor": 0
}
