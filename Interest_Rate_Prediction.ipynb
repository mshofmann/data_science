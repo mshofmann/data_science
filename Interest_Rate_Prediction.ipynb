{
 "cells": [
  {
   "cell_type": "markdown",
   "metadata": {},
   "source": [
    "# Linear Regression - Predicting Interest Rates\n",
    "\n",
    "#### Problem: Given FICO Score and the loan amount requested, what will be the interest rate?"
   ]
  },
  {
   "cell_type": "code",
   "execution_count": 1,
   "metadata": {
    "collapsed": true
   },
   "outputs": [],
   "source": [
    "%matplotlib inline\n",
    "import matplotlib.pyplot as plt\n",
    "import pandas as pd\n",
    "from sklearn import linear_model, metrics, svm\n",
    "from sklearn import cross_validation as cv"
   ]
  },
  {
   "cell_type": "code",
   "execution_count": 2,
   "metadata": {
    "collapsed": false
   },
   "outputs": [
    {
     "name": "stdout",
     "output_type": "stream",
     "text": [
      "<class 'pandas.core.frame.DataFrame'>\n",
      "Int64Index: 2500 entries, 81174 to 3116\n",
      "Data columns (total 14 columns):\n",
      "Amount.Requested                  2500 non-null int64\n",
      "Amount.Funded.By.Investors        2500 non-null float64\n",
      "Interest.Rate                     2500 non-null object\n",
      "Loan.Length                       2500 non-null object\n",
      "Loan.Purpose                      2500 non-null object\n",
      "Debt.To.Income.Ratio              2500 non-null object\n",
      "State                             2500 non-null object\n",
      "Home.Ownership                    2500 non-null object\n",
      "Monthly.Income                    2499 non-null float64\n",
      "FICO.Range                        2500 non-null object\n",
      "Open.CREDIT.Lines                 2498 non-null float64\n",
      "Revolving.CREDIT.Balance          2498 non-null float64\n",
      "Inquiries.in.the.Last.6.Months    2498 non-null float64\n",
      "Employment.Length                 2500 non-null object\n",
      "dtypes: float64(5), int64(1), object(8)\n",
      "memory usage: 293.0+ KB\n"
     ]
    }
   ],
   "source": [
    "loansData = pd.read_csv('https://spark-public.s3.amazonaws.com/dataanalysis/loansData.csv')\n",
    "loansData.info()"
   ]
  },
  {
   "cell_type": "code",
   "execution_count": 3,
   "metadata": {
    "collapsed": false
   },
   "outputs": [
    {
     "data": {
      "text/html": [
       "<div>\n",
       "<table border=\"1\" class=\"dataframe\">\n",
       "  <thead>\n",
       "    <tr style=\"text-align: right;\">\n",
       "      <th></th>\n",
       "      <th>Amount.Requested</th>\n",
       "      <th>Amount.Funded.By.Investors</th>\n",
       "      <th>Interest.Rate</th>\n",
       "      <th>Loan.Length</th>\n",
       "      <th>Loan.Purpose</th>\n",
       "      <th>Debt.To.Income.Ratio</th>\n",
       "      <th>State</th>\n",
       "      <th>Home.Ownership</th>\n",
       "      <th>Monthly.Income</th>\n",
       "      <th>FICO.Range</th>\n",
       "      <th>Open.CREDIT.Lines</th>\n",
       "      <th>Revolving.CREDIT.Balance</th>\n",
       "      <th>Inquiries.in.the.Last.6.Months</th>\n",
       "      <th>Employment.Length</th>\n",
       "    </tr>\n",
       "  </thead>\n",
       "  <tbody>\n",
       "    <tr>\n",
       "      <th>81174</th>\n",
       "      <td>20000</td>\n",
       "      <td>20000.0</td>\n",
       "      <td>8.90%</td>\n",
       "      <td>36 months</td>\n",
       "      <td>debt_consolidation</td>\n",
       "      <td>14.90%</td>\n",
       "      <td>SC</td>\n",
       "      <td>MORTGAGE</td>\n",
       "      <td>6541.67</td>\n",
       "      <td>735-739</td>\n",
       "      <td>14.0</td>\n",
       "      <td>14272.0</td>\n",
       "      <td>2.0</td>\n",
       "      <td>&lt; 1 year</td>\n",
       "    </tr>\n",
       "    <tr>\n",
       "      <th>99592</th>\n",
       "      <td>19200</td>\n",
       "      <td>19200.0</td>\n",
       "      <td>12.12%</td>\n",
       "      <td>36 months</td>\n",
       "      <td>debt_consolidation</td>\n",
       "      <td>28.36%</td>\n",
       "      <td>TX</td>\n",
       "      <td>MORTGAGE</td>\n",
       "      <td>4583.33</td>\n",
       "      <td>715-719</td>\n",
       "      <td>12.0</td>\n",
       "      <td>11140.0</td>\n",
       "      <td>1.0</td>\n",
       "      <td>2 years</td>\n",
       "    </tr>\n",
       "    <tr>\n",
       "      <th>80059</th>\n",
       "      <td>35000</td>\n",
       "      <td>35000.0</td>\n",
       "      <td>21.98%</td>\n",
       "      <td>60 months</td>\n",
       "      <td>debt_consolidation</td>\n",
       "      <td>23.81%</td>\n",
       "      <td>CA</td>\n",
       "      <td>MORTGAGE</td>\n",
       "      <td>11500.00</td>\n",
       "      <td>690-694</td>\n",
       "      <td>14.0</td>\n",
       "      <td>21977.0</td>\n",
       "      <td>1.0</td>\n",
       "      <td>2 years</td>\n",
       "    </tr>\n",
       "    <tr>\n",
       "      <th>15825</th>\n",
       "      <td>10000</td>\n",
       "      <td>9975.0</td>\n",
       "      <td>9.99%</td>\n",
       "      <td>36 months</td>\n",
       "      <td>debt_consolidation</td>\n",
       "      <td>14.30%</td>\n",
       "      <td>KS</td>\n",
       "      <td>MORTGAGE</td>\n",
       "      <td>3833.33</td>\n",
       "      <td>695-699</td>\n",
       "      <td>10.0</td>\n",
       "      <td>9346.0</td>\n",
       "      <td>0.0</td>\n",
       "      <td>5 years</td>\n",
       "    </tr>\n",
       "    <tr>\n",
       "      <th>33182</th>\n",
       "      <td>12000</td>\n",
       "      <td>12000.0</td>\n",
       "      <td>11.71%</td>\n",
       "      <td>36 months</td>\n",
       "      <td>credit_card</td>\n",
       "      <td>18.78%</td>\n",
       "      <td>NJ</td>\n",
       "      <td>RENT</td>\n",
       "      <td>3195.00</td>\n",
       "      <td>695-699</td>\n",
       "      <td>11.0</td>\n",
       "      <td>14469.0</td>\n",
       "      <td>0.0</td>\n",
       "      <td>9 years</td>\n",
       "    </tr>\n",
       "  </tbody>\n",
       "</table>\n",
       "</div>"
      ],
      "text/plain": [
       "       Amount.Requested  Amount.Funded.By.Investors Interest.Rate Loan.Length  \\\n",
       "81174             20000                     20000.0         8.90%   36 months   \n",
       "99592             19200                     19200.0        12.12%   36 months   \n",
       "80059             35000                     35000.0        21.98%   60 months   \n",
       "15825             10000                      9975.0         9.99%   36 months   \n",
       "33182             12000                     12000.0        11.71%   36 months   \n",
       "\n",
       "             Loan.Purpose Debt.To.Income.Ratio State Home.Ownership  \\\n",
       "81174  debt_consolidation               14.90%    SC       MORTGAGE   \n",
       "99592  debt_consolidation               28.36%    TX       MORTGAGE   \n",
       "80059  debt_consolidation               23.81%    CA       MORTGAGE   \n",
       "15825  debt_consolidation               14.30%    KS       MORTGAGE   \n",
       "33182         credit_card               18.78%    NJ           RENT   \n",
       "\n",
       "       Monthly.Income FICO.Range  Open.CREDIT.Lines  Revolving.CREDIT.Balance  \\\n",
       "81174         6541.67    735-739               14.0                   14272.0   \n",
       "99592         4583.33    715-719               12.0                   11140.0   \n",
       "80059        11500.00    690-694               14.0                   21977.0   \n",
       "15825         3833.33    695-699               10.0                    9346.0   \n",
       "33182         3195.00    695-699               11.0                   14469.0   \n",
       "\n",
       "       Inquiries.in.the.Last.6.Months Employment.Length  \n",
       "81174                             2.0          < 1 year  \n",
       "99592                             1.0           2 years  \n",
       "80059                             1.0           2 years  \n",
       "15825                             0.0           5 years  \n",
       "33182                             0.0           9 years  "
      ]
     },
     "execution_count": 3,
     "metadata": {},
     "output_type": "execute_result"
    }
   ],
   "source": [
    "loansData.head()"
   ]
  },
  {
   "cell_type": "code",
   "execution_count": 4,
   "metadata": {
    "collapsed": false
   },
   "outputs": [
    {
     "data": {
      "text/html": [
       "<div>\n",
       "<table border=\"1\" class=\"dataframe\">\n",
       "  <thead>\n",
       "    <tr style=\"text-align: right;\">\n",
       "      <th></th>\n",
       "      <th>amount_requested</th>\n",
       "      <th>amount_funded_by_investors</th>\n",
       "      <th>interest_rate</th>\n",
       "      <th>loan_length</th>\n",
       "      <th>loan_purpose</th>\n",
       "      <th>debt_to_income_ratio</th>\n",
       "      <th>state</th>\n",
       "      <th>home_ownership</th>\n",
       "      <th>monthly_income</th>\n",
       "      <th>fico_range</th>\n",
       "      <th>open_credit_lines</th>\n",
       "      <th>revolving_credit_balance</th>\n",
       "      <th>inquiries_in_the_last_6_months</th>\n",
       "      <th>employment_length</th>\n",
       "      <th>fico_score</th>\n",
       "    </tr>\n",
       "  </thead>\n",
       "  <tbody>\n",
       "    <tr>\n",
       "      <th>81174</th>\n",
       "      <td>20000</td>\n",
       "      <td>20000.0</td>\n",
       "      <td>0.0890</td>\n",
       "      <td>36 months</td>\n",
       "      <td>debt_consolidation</td>\n",
       "      <td>14.90%</td>\n",
       "      <td>SC</td>\n",
       "      <td>MORTGAGE</td>\n",
       "      <td>6541.67</td>\n",
       "      <td>735-739</td>\n",
       "      <td>14.0</td>\n",
       "      <td>14272.0</td>\n",
       "      <td>2.0</td>\n",
       "      <td>&lt; 1 year</td>\n",
       "      <td>735</td>\n",
       "    </tr>\n",
       "    <tr>\n",
       "      <th>99592</th>\n",
       "      <td>19200</td>\n",
       "      <td>19200.0</td>\n",
       "      <td>0.1212</td>\n",
       "      <td>36 months</td>\n",
       "      <td>debt_consolidation</td>\n",
       "      <td>28.36%</td>\n",
       "      <td>TX</td>\n",
       "      <td>MORTGAGE</td>\n",
       "      <td>4583.33</td>\n",
       "      <td>715-719</td>\n",
       "      <td>12.0</td>\n",
       "      <td>11140.0</td>\n",
       "      <td>1.0</td>\n",
       "      <td>2 years</td>\n",
       "      <td>715</td>\n",
       "    </tr>\n",
       "    <tr>\n",
       "      <th>80059</th>\n",
       "      <td>35000</td>\n",
       "      <td>35000.0</td>\n",
       "      <td>0.2198</td>\n",
       "      <td>60 months</td>\n",
       "      <td>debt_consolidation</td>\n",
       "      <td>23.81%</td>\n",
       "      <td>CA</td>\n",
       "      <td>MORTGAGE</td>\n",
       "      <td>11500.00</td>\n",
       "      <td>690-694</td>\n",
       "      <td>14.0</td>\n",
       "      <td>21977.0</td>\n",
       "      <td>1.0</td>\n",
       "      <td>2 years</td>\n",
       "      <td>690</td>\n",
       "    </tr>\n",
       "    <tr>\n",
       "      <th>15825</th>\n",
       "      <td>10000</td>\n",
       "      <td>9975.0</td>\n",
       "      <td>0.0999</td>\n",
       "      <td>36 months</td>\n",
       "      <td>debt_consolidation</td>\n",
       "      <td>14.30%</td>\n",
       "      <td>KS</td>\n",
       "      <td>MORTGAGE</td>\n",
       "      <td>3833.33</td>\n",
       "      <td>695-699</td>\n",
       "      <td>10.0</td>\n",
       "      <td>9346.0</td>\n",
       "      <td>0.0</td>\n",
       "      <td>5 years</td>\n",
       "      <td>695</td>\n",
       "    </tr>\n",
       "    <tr>\n",
       "      <th>33182</th>\n",
       "      <td>12000</td>\n",
       "      <td>12000.0</td>\n",
       "      <td>0.1171</td>\n",
       "      <td>36 months</td>\n",
       "      <td>credit_card</td>\n",
       "      <td>18.78%</td>\n",
       "      <td>NJ</td>\n",
       "      <td>RENT</td>\n",
       "      <td>3195.00</td>\n",
       "      <td>695-699</td>\n",
       "      <td>11.0</td>\n",
       "      <td>14469.0</td>\n",
       "      <td>0.0</td>\n",
       "      <td>9 years</td>\n",
       "      <td>695</td>\n",
       "    </tr>\n",
       "  </tbody>\n",
       "</table>\n",
       "</div>"
      ],
      "text/plain": [
       "       amount_requested  amount_funded_by_investors  interest_rate  \\\n",
       "81174             20000                     20000.0         0.0890   \n",
       "99592             19200                     19200.0         0.1212   \n",
       "80059             35000                     35000.0         0.2198   \n",
       "15825             10000                      9975.0         0.0999   \n",
       "33182             12000                     12000.0         0.1171   \n",
       "\n",
       "      loan_length        loan_purpose debt_to_income_ratio state  \\\n",
       "81174   36 months  debt_consolidation               14.90%    SC   \n",
       "99592   36 months  debt_consolidation               28.36%    TX   \n",
       "80059   60 months  debt_consolidation               23.81%    CA   \n",
       "15825   36 months  debt_consolidation               14.30%    KS   \n",
       "33182   36 months         credit_card               18.78%    NJ   \n",
       "\n",
       "      home_ownership  monthly_income fico_range  open_credit_lines  \\\n",
       "81174       MORTGAGE         6541.67    735-739               14.0   \n",
       "99592       MORTGAGE         4583.33    715-719               12.0   \n",
       "80059       MORTGAGE        11500.00    690-694               14.0   \n",
       "15825       MORTGAGE         3833.33    695-699               10.0   \n",
       "33182           RENT         3195.00    695-699               11.0   \n",
       "\n",
       "       revolving_credit_balance  inquiries_in_the_last_6_months  \\\n",
       "81174                   14272.0                             2.0   \n",
       "99592                   11140.0                             1.0   \n",
       "80059                   21977.0                             1.0   \n",
       "15825                    9346.0                             0.0   \n",
       "33182                   14469.0                             0.0   \n",
       "\n",
       "      employment_length  fico_score  \n",
       "81174          < 1 year         735  \n",
       "99592           2 years         715  \n",
       "80059           2 years         690  \n",
       "15825           5 years         695  \n",
       "33182           9 years         695  "
      ]
     },
     "execution_count": 4,
     "metadata": {},
     "output_type": "execute_result"
    }
   ],
   "source": [
    "# Clean Interest.Rate field\n",
    "g = lambda x: round(float(x[0:-1])/100,4)\n",
    "clean_Interest_Rate = loansData['Interest.Rate'].map(g)\n",
    "loansData['Interest.Rate'] = clean_Interest_Rate\n",
    "\n",
    "# Create fico_score field\n",
    "j = lambda z: int(z.split('-')[0])\n",
    "loansData['fico_score'] = loansData['FICO.Range'].map(j)\n",
    "\n",
    "# Modify column names\n",
    "loansData.columns = [col.replace(\".\", \"_\").lower() for col in loansData.columns]\n",
    "\n",
    "loansData.head()"
   ]
  },
  {
   "cell_type": "code",
   "execution_count": 5,
   "metadata": {
    "collapsed": false
   },
   "outputs": [],
   "source": [
    "X = loansData[['amount_requested','fico_score']]\n",
    "y = loansData['interest_rate']"
   ]
  },
  {
   "cell_type": "markdown",
   "metadata": {},
   "source": [
    "#### Test two models with KFold cross-validation to determine which method to use."
   ]
  },
  {
   "cell_type": "code",
   "execution_count": 6,
   "metadata": {
    "collapsed": false
   },
   "outputs": [
    {
     "data": {
      "text/plain": [
       "0.00060132902562876609"
      ]
     },
     "execution_count": 6,
     "metadata": {},
     "output_type": "execute_result"
    }
   ],
   "source": [
    "model_1 = linear_model.LinearRegression()\n",
    "mse_scores_1 = cv.cross_val_score(model_1, X, y, cv=10, scoring='mean_squared_error')\n",
    "model_1_result = abs(mse_scores_1.mean())\n",
    "model_1_result"
   ]
  },
  {
   "cell_type": "code",
   "execution_count": 7,
   "metadata": {
    "collapsed": false
   },
   "outputs": [
    {
     "data": {
      "text/plain": [
       "0.0021810386520000006"
      ]
     },
     "execution_count": 7,
     "metadata": {},
     "output_type": "execute_result"
    }
   ],
   "source": [
    "model_2 = svm.SVR()\n",
    "mse_scores_2 = cv.cross_val_score(model_2, X, y, cv=10, scoring='mean_squared_error')\n",
    "model_2_result = abs(mse_scores_2.mean())\n",
    "model_2_result"
   ]
  },
  {
   "cell_type": "markdown",
   "metadata": {},
   "source": [
    "#### Using the linear regression estimator (model_1), we achieved a smaller (better) MSE than using the SVR estimator.\n",
    "\n",
    "#### Demonstrate and graph some results."
   ]
  },
  {
   "cell_type": "code",
   "execution_count": 8,
   "metadata": {
    "collapsed": false
   },
   "outputs": [
    {
     "data": {
      "text/plain": [
       "0.00058921001758735372"
      ]
     },
     "execution_count": 8,
     "metadata": {},
     "output_type": "execute_result"
    }
   ],
   "source": [
    "X_train, X_test, y_train, y_test = cv.train_test_split(X, y, train_size=0.7, random_state=0)\n",
    "model_1.fit(X_train, y_train)\n",
    "predicted = model_1.predict(X_test)\n",
    "expected = y_test\n",
    "\n",
    "metrics.mean_squared_error(expected, predicted)"
   ]
  },
  {
   "cell_type": "code",
   "execution_count": 9,
   "metadata": {
    "collapsed": false
   },
   "outputs": [
    {
     "data": {
      "image/png": "[encoded data removed]",
      "text/plain": [
       "<matplotlib.figure.Figure at 0xd5d2ae5278>"
      ]
     },
     "metadata": {},
     "output_type": "display_data"
    }
   ],
   "source": [
    "fig, ax = plt.subplots(figsize=(11,4))\n",
    "ax.scatter(predicted, expected)\n",
    "ax.plot((0,0.3),(0,0.3))\n",
    "ax.grid()"
   ]
  }
 ],
 "metadata": {
  "kernelspec": {
   "display_name": "Python 3",
   "language": "python",
   "name": "python3"
  },
  "language_info": {
   "codemirror_mode": {
    "name": "ipython",
    "version": 3
   },
   "file_extension": ".py",
   "mimetype": "text/x-python",
   "name": "python",
   "nbconvert_exporter": "python",
   "pygments_lexer": "ipython3",
   "version": "3.5.1"
  }
 },
 "nbformat": 4,
 "nbformat_minor": 0
}
