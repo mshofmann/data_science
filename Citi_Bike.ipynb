{
 "cells": [
  {
   "cell_type": "markdown",
   "metadata": {},
   "source": [
    "# Citi Bike - Most Active Station\n",
    "\n",
    "The object is to view a half hour's worth of activity among Citi Bike stations around NYC, and determine which station was the busiest."
   ]
  },
  {
   "cell_type": "code",
   "execution_count": 1,
   "metadata": {
    "collapsed": true
   },
   "outputs": [],
   "source": [
    "%matplotlib inline\n",
    "import matplotlib.pyplot as plt\n",
    "import pandas as pd\n",
    "from pandas.io.json import json_normalize\n",
    "import requests\n",
    "import sqlite3 as lite\n",
    "import time\n",
    "import datetime\n",
    "from dateutil.parser import parse\n",
    "import collections"
   ]
  },
  {
   "cell_type": "markdown",
   "metadata": {},
   "source": [
    "#### Create a reference table for all the existing stations across the city."
   ]
  },
  {
   "cell_type": "code",
   "execution_count": 2,
   "metadata": {
    "collapsed": false
   },
   "outputs": [
    {
     "data": {
      "text/html": [
       "<div>\n",
       "<table border=\"1\" class=\"dataframe\">\n",
       "  <thead>\n",
       "    <tr style=\"text-align: right;\">\n",
       "      <th></th>\n",
       "      <th>altitude</th>\n",
       "      <th>availableBikes</th>\n",
       "      <th>availableDocks</th>\n",
       "      <th>city</th>\n",
       "      <th>landMark</th>\n",
       "      <th>lastCommunicationTime</th>\n",
       "      <th>latitude</th>\n",
       "      <th>location</th>\n",
       "      <th>longitude</th>\n",
       "      <th>postalCode</th>\n",
       "      <th>stAddress1</th>\n",
       "      <th>stAddress2</th>\n",
       "      <th>stationName</th>\n",
       "      <th>statusKey</th>\n",
       "      <th>statusValue</th>\n",
       "      <th>testStation</th>\n",
       "      <th>totalDocks</th>\n",
       "    </tr>\n",
       "    <tr>\n",
       "      <th>id</th>\n",
       "      <th></th>\n",
       "      <th></th>\n",
       "      <th></th>\n",
       "      <th></th>\n",
       "      <th></th>\n",
       "      <th></th>\n",
       "      <th></th>\n",
       "      <th></th>\n",
       "      <th></th>\n",
       "      <th></th>\n",
       "      <th></th>\n",
       "      <th></th>\n",
       "      <th></th>\n",
       "      <th></th>\n",
       "      <th></th>\n",
       "      <th></th>\n",
       "      <th></th>\n",
       "    </tr>\n",
       "  </thead>\n",
       "  <tbody>\n",
       "    <tr>\n",
       "      <th>72</th>\n",
       "      <td></td>\n",
       "      <td>3</td>\n",
       "      <td>34</td>\n",
       "      <td></td>\n",
       "      <td></td>\n",
       "      <td>2016-05-31 04:37:45 PM</td>\n",
       "      <td>40.767272</td>\n",
       "      <td></td>\n",
       "      <td>-73.993929</td>\n",
       "      <td></td>\n",
       "      <td>W 52 St &amp; 11 Ave</td>\n",
       "      <td></td>\n",
       "      <td>W 52 St &amp; 11 Ave</td>\n",
       "      <td>1</td>\n",
       "      <td>In Service</td>\n",
       "      <td>False</td>\n",
       "      <td>39</td>\n",
       "    </tr>\n",
       "    <tr>\n",
       "      <th>79</th>\n",
       "      <td></td>\n",
       "      <td>27</td>\n",
       "      <td>4</td>\n",
       "      <td></td>\n",
       "      <td></td>\n",
       "      <td>2016-05-31 04:37:07 PM</td>\n",
       "      <td>40.719116</td>\n",
       "      <td></td>\n",
       "      <td>-74.006667</td>\n",
       "      <td></td>\n",
       "      <td>Franklin St &amp; W Broadway</td>\n",
       "      <td></td>\n",
       "      <td>Franklin St &amp; W Broadway</td>\n",
       "      <td>1</td>\n",
       "      <td>In Service</td>\n",
       "      <td>False</td>\n",
       "      <td>33</td>\n",
       "    </tr>\n",
       "    <tr>\n",
       "      <th>82</th>\n",
       "      <td></td>\n",
       "      <td>9</td>\n",
       "      <td>16</td>\n",
       "      <td></td>\n",
       "      <td></td>\n",
       "      <td>2016-05-31 04:34:10 PM</td>\n",
       "      <td>40.711174</td>\n",
       "      <td></td>\n",
       "      <td>-74.000165</td>\n",
       "      <td></td>\n",
       "      <td>St James Pl &amp; Pearl St</td>\n",
       "      <td></td>\n",
       "      <td>St James Pl &amp; Pearl St</td>\n",
       "      <td>1</td>\n",
       "      <td>In Service</td>\n",
       "      <td>False</td>\n",
       "      <td>27</td>\n",
       "    </tr>\n",
       "    <tr>\n",
       "      <th>83</th>\n",
       "      <td></td>\n",
       "      <td>17</td>\n",
       "      <td>42</td>\n",
       "      <td></td>\n",
       "      <td></td>\n",
       "      <td>2016-05-31 04:36:18 PM</td>\n",
       "      <td>40.683826</td>\n",
       "      <td></td>\n",
       "      <td>-73.976323</td>\n",
       "      <td></td>\n",
       "      <td>Atlantic Ave &amp; Fort Greene Pl</td>\n",
       "      <td></td>\n",
       "      <td>Atlantic Ave &amp; Fort Greene Pl</td>\n",
       "      <td>1</td>\n",
       "      <td>In Service</td>\n",
       "      <td>False</td>\n",
       "      <td>62</td>\n",
       "    </tr>\n",
       "    <tr>\n",
       "      <th>116</th>\n",
       "      <td></td>\n",
       "      <td>22</td>\n",
       "      <td>15</td>\n",
       "      <td></td>\n",
       "      <td></td>\n",
       "      <td>2016-05-31 04:37:31 PM</td>\n",
       "      <td>40.741776</td>\n",
       "      <td></td>\n",
       "      <td>-74.001497</td>\n",
       "      <td></td>\n",
       "      <td>W 17 St &amp; 8 Ave</td>\n",
       "      <td></td>\n",
       "      <td>W 17 St &amp; 8 Ave</td>\n",
       "      <td>1</td>\n",
       "      <td>In Service</td>\n",
       "      <td>False</td>\n",
       "      <td>39</td>\n",
       "    </tr>\n",
       "  </tbody>\n",
       "</table>\n",
       "</div>"
      ],
      "text/plain": [
       "    altitude  availableBikes  availableDocks city landMark  \\\n",
       "id                                                           \n",
       "72                         3              34                 \n",
       "79                        27               4                 \n",
       "82                         9              16                 \n",
       "83                        17              42                 \n",
       "116                       22              15                 \n",
       "\n",
       "      lastCommunicationTime   latitude location  longitude postalCode  \\\n",
       "id                                                                      \n",
       "72   2016-05-31 04:37:45 PM  40.767272          -73.993929              \n",
       "79   2016-05-31 04:37:07 PM  40.719116          -74.006667              \n",
       "82   2016-05-31 04:34:10 PM  40.711174          -74.000165              \n",
       "83   2016-05-31 04:36:18 PM  40.683826          -73.976323              \n",
       "116  2016-05-31 04:37:31 PM  40.741776          -74.001497              \n",
       "\n",
       "                        stAddress1 stAddress2                    stationName  \\\n",
       "id                                                                             \n",
       "72                W 52 St & 11 Ave                          W 52 St & 11 Ave   \n",
       "79        Franklin St & W Broadway                  Franklin St & W Broadway   \n",
       "82          St James Pl & Pearl St                    St James Pl & Pearl St   \n",
       "83   Atlantic Ave & Fort Greene Pl             Atlantic Ave & Fort Greene Pl   \n",
       "116                W 17 St & 8 Ave                           W 17 St & 8 Ave   \n",
       "\n",
       "     statusKey statusValue testStation  totalDocks  \n",
       "id                                                  \n",
       "72           1  In Service       False          39  \n",
       "79           1  In Service       False          33  \n",
       "82           1  In Service       False          27  \n",
       "83           1  In Service       False          62  \n",
       "116          1  In Service       False          39  "
      ]
     },
     "execution_count": 2,
     "metadata": {},
     "output_type": "execute_result"
    }
   ],
   "source": [
    "r = requests.get('http://www.citibikenyc.com/stations/json')\n",
    "ref_df = json_normalize(r.json()['stationBeanList'])\n",
    "ref_df.set_index('id',inplace=True)\n",
    "ref_df.head()"
   ]
  },
  {
   "cell_type": "markdown",
   "metadata": {},
   "source": [
    "#### Create and populate a database table which will contain the number of available bikes at each station once a minute for one hour."
   ]
  },
  {
   "cell_type": "code",
   "execution_count": 3,
   "metadata": {
    "collapsed": true
   },
   "outputs": [],
   "source": [
    "station_ids = list(ref_df.index.values)\n",
    "station_ids = ['_' + str(x) + ' INT' for x in station_ids]\n",
    "\n",
    "con = lite.connect('citi_bike.db')\n",
    "cur = con.cursor()\n",
    "\n",
    "with con:\n",
    "    cur.execute(\"DROP TABLE IF EXISTS available_bikes;\")\n",
    "    cur.execute(\"CREATE TABLE available_bikes (execution_time INT, \"\\\n",
    "              + \", \".join(station_ids) + \");\")"
   ]
  },
  {
   "cell_type": "code",
   "execution_count": 4,
   "metadata": {
    "collapsed": false
   },
   "outputs": [
    {
     "name": "stdout",
     "output_type": "stream",
     "text": [
      "1 down.\n",
      "2 down.\n",
      "3 down.\n",
      "4 down.\n",
      "5 down.\n",
      "6 down.\n",
      "7 down.\n",
      "8 down.\n",
      "9 down.\n",
      "10 down.\n",
      "11 down.\n",
      "12 down.\n",
      "13 down.\n",
      "14 down.\n",
      "15 down.\n",
      "16 down.\n",
      "17 down.\n",
      "18 down.\n",
      "19 down.\n",
      "20 down.\n",
      "21 down.\n",
      "22 down.\n",
      "23 down.\n",
      "24 down.\n",
      "25 down.\n",
      "26 down.\n",
      "27 down.\n",
      "28 down.\n",
      "29 down.\n",
      "30 down.\n",
      "Finished.\n"
     ]
    }
   ],
   "source": [
    "starttime = time.time()\n",
    "counter = 0\n",
    "\n",
    "while counter < 30:\n",
    "    r = requests.get('http://www.citibikenyc.com/stations/json')\n",
    "    exec_time = parse(r.json()['executionTime'])\n",
    "    exec_time = str((exec_time - datetime.datetime(1970,1,1)).total_seconds())\n",
    "    with con:\n",
    "        cur.execute('INSERT INTO available_bikes (execution_time) VALUES (?)', (exec_time,))\n",
    "    id_bikes = collections.defaultdict(int)\n",
    "    for station in r.json()['stationBeanList']:\n",
    "        id_bikes[station['id']] = station['availableBikes']\n",
    "    with con:\n",
    "        for k, v in id_bikes.items():\n",
    "            cur.execute(\"UPDATE available_bikes SET _\" + str(k) +\\\n",
    "                        \" = \" + str(v) + \" WHERE execution_time = \" +\\\n",
    "                        exec_time + \";\")\n",
    "    print(str(counter + 1) + ' down.')\n",
    "    counter += 1\n",
    "    time.sleep(60.0 - ((time.time() - starttime) % 60.0))\n",
    "\n",
    "print('Finished.')"
   ]
  },
  {
   "cell_type": "code",
   "execution_count": 5,
   "metadata": {
    "collapsed": false
   },
   "outputs": [
    {
     "name": "stdout",
     "output_type": "stream",
     "text": [
      "<class 'pandas.core.frame.DataFrame'>\n",
      "Int64Index: 30 entries, 1464712706 to 1464714447\n",
      "Columns: 507 entries, _72 to _3255\n",
      "dtypes: int64(507)\n",
      "memory usage: 119.1 KB\n"
     ]
    }
   ],
   "source": [
    "df = pd.read_sql_query(\"SELECT * FROM available_bikes ORDER BY 1\",con,index_col='execution_time')\n",
    "df.info()"
   ]
  },
  {
   "cell_type": "code",
   "execution_count": 6,
   "metadata": {
    "collapsed": false
   },
   "outputs": [
    {
     "data": {
      "text/html": [
       "<div>\n",
       "<table border=\"1\" class=\"dataframe\">\n",
       "  <thead>\n",
       "    <tr style=\"text-align: right;\">\n",
       "      <th></th>\n",
       "      <th>_72</th>\n",
       "      <th>_79</th>\n",
       "      <th>_82</th>\n",
       "      <th>_83</th>\n",
       "      <th>_116</th>\n",
       "      <th>_119</th>\n",
       "      <th>_120</th>\n",
       "      <th>_127</th>\n",
       "      <th>_128</th>\n",
       "      <th>_137</th>\n",
       "      <th>...</th>\n",
       "      <th>_3238</th>\n",
       "      <th>_3241</th>\n",
       "      <th>_3242</th>\n",
       "      <th>_3243</th>\n",
       "      <th>_3244</th>\n",
       "      <th>_3246</th>\n",
       "      <th>_3248</th>\n",
       "      <th>_3249</th>\n",
       "      <th>_3254</th>\n",
       "      <th>_3255</th>\n",
       "    </tr>\n",
       "    <tr>\n",
       "      <th>execution_time</th>\n",
       "      <th></th>\n",
       "      <th></th>\n",
       "      <th></th>\n",
       "      <th></th>\n",
       "      <th></th>\n",
       "      <th></th>\n",
       "      <th></th>\n",
       "      <th></th>\n",
       "      <th></th>\n",
       "      <th></th>\n",
       "      <th></th>\n",
       "      <th></th>\n",
       "      <th></th>\n",
       "      <th></th>\n",
       "      <th></th>\n",
       "      <th></th>\n",
       "      <th></th>\n",
       "      <th></th>\n",
       "      <th></th>\n",
       "      <th></th>\n",
       "      <th></th>\n",
       "    </tr>\n",
       "  </thead>\n",
       "  <tbody>\n",
       "    <tr>\n",
       "      <th>1464712706</th>\n",
       "      <td>3</td>\n",
       "      <td>27</td>\n",
       "      <td>9</td>\n",
       "      <td>17</td>\n",
       "      <td>21</td>\n",
       "      <td>4</td>\n",
       "      <td>6</td>\n",
       "      <td>8</td>\n",
       "      <td>18</td>\n",
       "      <td>17</td>\n",
       "      <td>...</td>\n",
       "      <td>4</td>\n",
       "      <td>2</td>\n",
       "      <td>5</td>\n",
       "      <td>6</td>\n",
       "      <td>4</td>\n",
       "      <td>22</td>\n",
       "      <td>0</td>\n",
       "      <td>8</td>\n",
       "      <td>17</td>\n",
       "      <td>26</td>\n",
       "    </tr>\n",
       "    <tr>\n",
       "      <th>1464712768</th>\n",
       "      <td>3</td>\n",
       "      <td>27</td>\n",
       "      <td>9</td>\n",
       "      <td>17</td>\n",
       "      <td>20</td>\n",
       "      <td>4</td>\n",
       "      <td>6</td>\n",
       "      <td>8</td>\n",
       "      <td>18</td>\n",
       "      <td>16</td>\n",
       "      <td>...</td>\n",
       "      <td>4</td>\n",
       "      <td>2</td>\n",
       "      <td>5</td>\n",
       "      <td>6</td>\n",
       "      <td>3</td>\n",
       "      <td>23</td>\n",
       "      <td>0</td>\n",
       "      <td>8</td>\n",
       "      <td>17</td>\n",
       "      <td>27</td>\n",
       "    </tr>\n",
       "    <tr>\n",
       "      <th>1464712820</th>\n",
       "      <td>3</td>\n",
       "      <td>27</td>\n",
       "      <td>9</td>\n",
       "      <td>17</td>\n",
       "      <td>20</td>\n",
       "      <td>4</td>\n",
       "      <td>6</td>\n",
       "      <td>8</td>\n",
       "      <td>18</td>\n",
       "      <td>16</td>\n",
       "      <td>...</td>\n",
       "      <td>3</td>\n",
       "      <td>2</td>\n",
       "      <td>5</td>\n",
       "      <td>6</td>\n",
       "      <td>3</td>\n",
       "      <td>22</td>\n",
       "      <td>0</td>\n",
       "      <td>8</td>\n",
       "      <td>17</td>\n",
       "      <td>27</td>\n",
       "    </tr>\n",
       "    <tr>\n",
       "      <th>1464712882</th>\n",
       "      <td>3</td>\n",
       "      <td>28</td>\n",
       "      <td>9</td>\n",
       "      <td>17</td>\n",
       "      <td>20</td>\n",
       "      <td>4</td>\n",
       "      <td>6</td>\n",
       "      <td>8</td>\n",
       "      <td>18</td>\n",
       "      <td>16</td>\n",
       "      <td>...</td>\n",
       "      <td>3</td>\n",
       "      <td>2</td>\n",
       "      <td>5</td>\n",
       "      <td>6</td>\n",
       "      <td>2</td>\n",
       "      <td>22</td>\n",
       "      <td>0</td>\n",
       "      <td>8</td>\n",
       "      <td>17</td>\n",
       "      <td>27</td>\n",
       "    </tr>\n",
       "    <tr>\n",
       "      <th>1464712934</th>\n",
       "      <td>3</td>\n",
       "      <td>28</td>\n",
       "      <td>9</td>\n",
       "      <td>17</td>\n",
       "      <td>20</td>\n",
       "      <td>4</td>\n",
       "      <td>6</td>\n",
       "      <td>9</td>\n",
       "      <td>18</td>\n",
       "      <td>16</td>\n",
       "      <td>...</td>\n",
       "      <td>3</td>\n",
       "      <td>2</td>\n",
       "      <td>5</td>\n",
       "      <td>7</td>\n",
       "      <td>2</td>\n",
       "      <td>22</td>\n",
       "      <td>0</td>\n",
       "      <td>8</td>\n",
       "      <td>17</td>\n",
       "      <td>27</td>\n",
       "    </tr>\n",
       "  </tbody>\n",
       "</table>\n",
       "<p>5 rows × 507 columns</p>\n",
       "</div>"
      ],
      "text/plain": [
       "                _72  _79  _82  _83  _116  _119  _120  _127  _128  _137  ...    \\\n",
       "execution_time                                                          ...     \n",
       "1464712706        3   27    9   17    21     4     6     8    18    17  ...     \n",
       "1464712768        3   27    9   17    20     4     6     8    18    16  ...     \n",
       "1464712820        3   27    9   17    20     4     6     8    18    16  ...     \n",
       "1464712882        3   28    9   17    20     4     6     8    18    16  ...     \n",
       "1464712934        3   28    9   17    20     4     6     9    18    16  ...     \n",
       "\n",
       "                _3238  _3241  _3242  _3243  _3244  _3246  _3248  _3249  _3254  \\\n",
       "execution_time                                                                  \n",
       "1464712706          4      2      5      6      4     22      0      8     17   \n",
       "1464712768          4      2      5      6      3     23      0      8     17   \n",
       "1464712820          3      2      5      6      3     22      0      8     17   \n",
       "1464712882          3      2      5      6      2     22      0      8     17   \n",
       "1464712934          3      2      5      7      2     22      0      8     17   \n",
       "\n",
       "                _3255  \n",
       "execution_time         \n",
       "1464712706         26  \n",
       "1464712768         27  \n",
       "1464712820         27  \n",
       "1464712882         27  \n",
       "1464712934         27  \n",
       "\n",
       "[5 rows x 507 columns]"
      ]
     },
     "execution_count": 6,
     "metadata": {},
     "output_type": "execute_result"
    }
   ],
   "source": [
    "df.head()"
   ]
  },
  {
   "cell_type": "markdown",
   "metadata": {},
   "source": [
    "#### Determine amount of activity at each station by summing the minute by minute change, and then identify the busiest station."
   ]
  },
  {
   "cell_type": "code",
   "execution_count": 42,
   "metadata": {
    "collapsed": false
   },
   "outputs": [],
   "source": [
    "df_deltas = df - df.shift()\n",
    "hour_change = abs(df_deltas).sum().sort_values(ascending=False)\n",
    "max_station = int(hour_change.first_valid_index()[1:])"
   ]
  },
  {
   "cell_type": "code",
   "execution_count": 52,
   "metadata": {
    "collapsed": false
   },
   "outputs": [],
   "source": [
    "name = ref_df.ix[max_station,12]\n",
    "lat = ref_df.ix[max_station,6]\n",
    "long = ref_df.ix[max_station,8]\n",
    "data = (max_station, name, lat, long)"
   ]
  },
  {
   "cell_type": "code",
   "execution_count": 53,
   "metadata": {
    "collapsed": false
   },
   "outputs": [
    {
     "name": "stdout",
     "output_type": "stream",
     "text": [
      "The most active station is Station ID 359 at E 47 St & Park Ave; Latitude: 40.75510267 Longitude: -73.97498696.\n",
      "37 bicycles came and went in the time between 2016-05-31T12:38:26 and 2016-05-31T13:07:27.\n"
     ]
    }
   ],
   "source": [
    "print('The most active station is Station ID %s at %s; Latitude: %s Longitude: %s.' % data)\n",
    "print('%d bicycles came and went in the time between %s and %s.' % (\n",
    "    hour_change['_'+str(max_station)],\n",
    "    datetime.datetime.fromtimestamp(int(df.index[0])).strftime('%Y-%m-%dT%H:%M:%S'),\n",
    "    datetime.datetime.fromtimestamp(int(df.index[-1])).strftime('%Y-%m-%dT%H:%M:%S'),\n",
    "    ))"
   ]
  },
  {
   "cell_type": "code",
   "execution_count": 54,
   "metadata": {
    "collapsed": false
   },
   "outputs": [
    {
     "data": {
      "text/plain": [
       "<matplotlib.axes._subplots.AxesSubplot at 0x51bfd93fd0>"
      ]
     },
     "execution_count": 54,
     "metadata": {},
     "output_type": "execute_result"
    },
    {
     "data": {
      "image/png": "[encoded data removed]",
      "text/plain": [
       "<matplotlib.figure.Figure at 0x51bfb00320>"
      ]
     },
     "metadata": {},
     "output_type": "display_data"
    }
   ],
   "source": [
    "plt.figure(figsize=(20,4))\n",
    "hour_change[:50].plot(kind='bar')"
   ]
  }
 ],
 "metadata": {
  "kernelspec": {
   "display_name": "Python 3",
   "language": "python",
   "name": "python3"
  },
  "language_info": {
   "codemirror_mode": {
    "name": "ipython",
    "version": 3
   },
   "file_extension": ".py",
   "mimetype": "text/x-python",
   "name": "python",
   "nbconvert_exporter": "python",
   "pygments_lexer": "ipython3",
   "version": "3.5.1"
  }
 },
 "nbformat": 4,
 "nbformat_minor": 0
}
