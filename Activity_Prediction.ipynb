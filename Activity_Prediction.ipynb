{
 "cells": [
  {
   "cell_type": "markdown",
   "metadata": {},
   "source": [
    "# Activity Prediction\n",
    "\n",
    "Thirty volunteers engaged in 12 different physical activities:\n",
    "\n",
    "1 WALKING  \n",
    "2 WALKING_UPSTAIRS  \n",
    "3 WALKING_DOWNSTAIRS  \n",
    "4 SITTING  \n",
    "5 STANDING  \n",
    "6 LAYING  \n",
    "7 STAND_TO_SIT  \n",
    "8 SIT_TO_STAND  \n",
    "9 SIT_TO_LIE  \n",
    "10 LIE_TO_SIT  \n",
    "11 STAND_TO_LIE  \n",
    "12 LIE_TO_STAND  \n",
    "\n",
    "They each were wearing a smartphone, which captured movement data via the embedded accelerometer and gyroscope. The units used for the accelerations (total and body) are 'g's (gravity of earth -> 9.80665 m/seg2), normalized to a scale of -1 to 1.  \n",
    "  \n",
    "Below, a subset of the collected data was used to attempt to classify what movement the volunteers made. A random forest classifier was the tool of choice, as there were a large number of variables.\n",
    "\n",
    "A more thorough description of the experiment and dataset can be found here:  \n",
    "http://archive.ics.uci.edu/ml/datasets/Smartphone-Based+Recognition+of+Human+Activities+and+Postural+Transitions"
   ]
  },
  {
   "cell_type": "code",
   "execution_count": 1,
   "metadata": {
    "collapsed": true
   },
   "outputs": [],
   "source": [
    "%matplotlib inline\n",
    "import pandas as pd\n",
    "import matplotlib.pyplot as plt\n",
    "import numpy as np\n",
    "from sklearn import cross_validation as cv\n",
    "from sklearn.ensemble import RandomForestClassifier\n",
    "from sklearn import metrics"
   ]
  },
  {
   "cell_type": "markdown",
   "metadata": {},
   "source": [
    "Step 1: Read in the data for the training table, filtered for 'Mag' and 'Angle' variables, and add 'subject' and 'activity' columns. This gives us 124 columns of variables, plus a column showing which volunteer made the action and a column showing what action was made."
   ]
  },
  {
   "cell_type": "code",
   "execution_count": 2,
   "metadata": {
    "collapsed": false
   },
   "outputs": [
    {
     "data": {
      "text/html": [
       "<div>\n",
       "<table border=\"1\" class=\"dataframe\">\n",
       "  <thead>\n",
       "    <tr style=\"text-align: right;\">\n",
       "      <th></th>\n",
       "      <th>tBodyAccMag-Mean-1</th>\n",
       "      <th>tBodyAccMag-STD-1</th>\n",
       "      <th>tBodyAccMag-Mad-1</th>\n",
       "      <th>tBodyAccMag-Max-1</th>\n",
       "      <th>tBodyAccMag-Min-1</th>\n",
       "      <th>tBodyAccMag-SMA-1</th>\n",
       "      <th>tBodyAccMag-Energy-1</th>\n",
       "      <th>tBodyAccMag-IQR-1</th>\n",
       "      <th>tBodyAccMag-ropy-1</th>\n",
       "      <th>tBodyAccMag-ARCoeff-1</th>\n",
       "      <th>...</th>\n",
       "      <th>fBodyGyroJerkMag-Kurtosis-1</th>\n",
       "      <th>tBodyAcc-AngleWRTGravity-1</th>\n",
       "      <th>tBodyAccJerk-AngleWRTGravity-1</th>\n",
       "      <th>tBodyGyro-AngleWRTGravity-1</th>\n",
       "      <th>tBodyGyroJerk-AngleWRTGravity-1</th>\n",
       "      <th>tXAxisAcc-AngleWRTGravity-1</th>\n",
       "      <th>tYAxisAcc-AngleWRTGravity-1</th>\n",
       "      <th>tZAxisAcc-AngleWRTGravity-1</th>\n",
       "      <th>subject</th>\n",
       "      <th>activity</th>\n",
       "    </tr>\n",
       "  </thead>\n",
       "  <tbody>\n",
       "    <tr>\n",
       "      <th>0</th>\n",
       "      <td>-0.969546</td>\n",
       "      <td>-0.961540</td>\n",
       "      <td>-0.967646</td>\n",
       "      <td>-0.947236</td>\n",
       "      <td>-0.994174</td>\n",
       "      <td>-0.969546</td>\n",
       "      <td>-0.999150</td>\n",
       "      <td>-0.970525</td>\n",
       "      <td>-0.219620</td>\n",
       "      <td>-0.124072</td>\n",
       "      <td>...</td>\n",
       "      <td>-0.713308</td>\n",
       "      <td>-0.112754</td>\n",
       "      <td>0.030400</td>\n",
       "      <td>-0.464761</td>\n",
       "      <td>-0.018446</td>\n",
       "      <td>-0.841559</td>\n",
       "      <td>0.179913</td>\n",
       "      <td>-0.051718</td>\n",
       "      <td>1</td>\n",
       "      <td>5</td>\n",
       "    </tr>\n",
       "    <tr>\n",
       "      <th>1</th>\n",
       "      <td>-0.984484</td>\n",
       "      <td>-0.981042</td>\n",
       "      <td>-0.983105</td>\n",
       "      <td>-0.979658</td>\n",
       "      <td>-0.996348</td>\n",
       "      <td>-0.984484</td>\n",
       "      <td>-0.999709</td>\n",
       "      <td>-0.986893</td>\n",
       "      <td>-0.426713</td>\n",
       "      <td>0.129618</td>\n",
       "      <td>...</td>\n",
       "      <td>-0.860677</td>\n",
       "      <td>0.053477</td>\n",
       "      <td>-0.007435</td>\n",
       "      <td>-0.732626</td>\n",
       "      <td>0.703511</td>\n",
       "      <td>-0.845092</td>\n",
       "      <td>0.180261</td>\n",
       "      <td>-0.047436</td>\n",
       "      <td>1</td>\n",
       "      <td>5</td>\n",
       "    </tr>\n",
       "    <tr>\n",
       "      <th>2</th>\n",
       "      <td>-0.987805</td>\n",
       "      <td>-0.990189</td>\n",
       "      <td>-0.990798</td>\n",
       "      <td>-0.987446</td>\n",
       "      <td>-0.996348</td>\n",
       "      <td>-0.987805</td>\n",
       "      <td>-0.999818</td>\n",
       "      <td>-0.990025</td>\n",
       "      <td>-0.583114</td>\n",
       "      <td>0.086279</td>\n",
       "      <td>...</td>\n",
       "      <td>-0.761847</td>\n",
       "      <td>-0.118559</td>\n",
       "      <td>0.177899</td>\n",
       "      <td>0.100699</td>\n",
       "      <td>0.808529</td>\n",
       "      <td>-0.849230</td>\n",
       "      <td>0.180610</td>\n",
       "      <td>-0.042271</td>\n",
       "      <td>1</td>\n",
       "      <td>5</td>\n",
       "    </tr>\n",
       "    <tr>\n",
       "      <th>3</th>\n",
       "      <td>-0.989940</td>\n",
       "      <td>-0.988966</td>\n",
       "      <td>-0.989351</td>\n",
       "      <td>-0.987446</td>\n",
       "      <td>-0.997687</td>\n",
       "      <td>-0.989940</td>\n",
       "      <td>-0.999849</td>\n",
       "      <td>-0.988460</td>\n",
       "      <td>-0.572296</td>\n",
       "      <td>-0.044082</td>\n",
       "      <td>...</td>\n",
       "      <td>-0.491604</td>\n",
       "      <td>-0.036788</td>\n",
       "      <td>-0.012892</td>\n",
       "      <td>0.640011</td>\n",
       "      <td>-0.485366</td>\n",
       "      <td>-0.848947</td>\n",
       "      <td>0.181907</td>\n",
       "      <td>-0.040826</td>\n",
       "      <td>1</td>\n",
       "      <td>5</td>\n",
       "    </tr>\n",
       "    <tr>\n",
       "      <th>4</th>\n",
       "      <td>-0.994669</td>\n",
       "      <td>-0.992678</td>\n",
       "      <td>-0.992968</td>\n",
       "      <td>-0.991914</td>\n",
       "      <td>-0.997687</td>\n",
       "      <td>-0.994669</td>\n",
       "      <td>-0.999929</td>\n",
       "      <td>-0.992688</td>\n",
       "      <td>-0.686673</td>\n",
       "      <td>0.228080</td>\n",
       "      <td>...</td>\n",
       "      <td>-0.702490</td>\n",
       "      <td>0.123320</td>\n",
       "      <td>0.122542</td>\n",
       "      <td>0.693578</td>\n",
       "      <td>-0.615971</td>\n",
       "      <td>-0.848164</td>\n",
       "      <td>0.185124</td>\n",
       "      <td>-0.037080</td>\n",
       "      <td>1</td>\n",
       "      <td>5</td>\n",
       "    </tr>\n",
       "  </tbody>\n",
       "</table>\n",
       "<p>5 rows × 126 columns</p>\n",
       "</div>"
      ],
      "text/plain": [
       "   tBodyAccMag-Mean-1  tBodyAccMag-STD-1  tBodyAccMag-Mad-1  \\\n",
       "0           -0.969546          -0.961540          -0.967646   \n",
       "1           -0.984484          -0.981042          -0.983105   \n",
       "2           -0.987805          -0.990189          -0.990798   \n",
       "3           -0.989940          -0.988966          -0.989351   \n",
       "4           -0.994669          -0.992678          -0.992968   \n",
       "\n",
       "   tBodyAccMag-Max-1  tBodyAccMag-Min-1  tBodyAccMag-SMA-1  \\\n",
       "0          -0.947236          -0.994174          -0.969546   \n",
       "1          -0.979658          -0.996348          -0.984484   \n",
       "2          -0.987446          -0.996348          -0.987805   \n",
       "3          -0.987446          -0.997687          -0.989940   \n",
       "4          -0.991914          -0.997687          -0.994669   \n",
       "\n",
       "   tBodyAccMag-Energy-1  tBodyAccMag-IQR-1  tBodyAccMag-ropy-1  \\\n",
       "0             -0.999150          -0.970525           -0.219620   \n",
       "1             -0.999709          -0.986893           -0.426713   \n",
       "2             -0.999818          -0.990025           -0.583114   \n",
       "3             -0.999849          -0.988460           -0.572296   \n",
       "4             -0.999929          -0.992688           -0.686673   \n",
       "\n",
       "   tBodyAccMag-ARCoeff-1    ...     fBodyGyroJerkMag-Kurtosis-1  \\\n",
       "0              -0.124072    ...                       -0.713308   \n",
       "1               0.129618    ...                       -0.860677   \n",
       "2               0.086279    ...                       -0.761847   \n",
       "3              -0.044082    ...                       -0.491604   \n",
       "4               0.228080    ...                       -0.702490   \n",
       "\n",
       "   tBodyAcc-AngleWRTGravity-1  tBodyAccJerk-AngleWRTGravity-1  \\\n",
       "0                   -0.112754                        0.030400   \n",
       "1                    0.053477                       -0.007435   \n",
       "2                   -0.118559                        0.177899   \n",
       "3                   -0.036788                       -0.012892   \n",
       "4                    0.123320                        0.122542   \n",
       "\n",
       "   tBodyGyro-AngleWRTGravity-1  tBodyGyroJerk-AngleWRTGravity-1  \\\n",
       "0                    -0.464761                        -0.018446   \n",
       "1                    -0.732626                         0.703511   \n",
       "2                     0.100699                         0.808529   \n",
       "3                     0.640011                        -0.485366   \n",
       "4                     0.693578                        -0.615971   \n",
       "\n",
       "   tXAxisAcc-AngleWRTGravity-1  tYAxisAcc-AngleWRTGravity-1  \\\n",
       "0                    -0.841559                     0.179913   \n",
       "1                    -0.845092                     0.180261   \n",
       "2                    -0.849230                     0.180610   \n",
       "3                    -0.848947                     0.181907   \n",
       "4                    -0.848164                     0.185124   \n",
       "\n",
       "   tZAxisAcc-AngleWRTGravity-1  subject  activity  \n",
       "0                    -0.051718        1         5  \n",
       "1                    -0.047436        1         5  \n",
       "2                    -0.042271        1         5  \n",
       "3                    -0.040826        1         5  \n",
       "4                    -0.037080        1         5  \n",
       "\n",
       "[5 rows x 126 columns]"
      ]
     },
     "execution_count": 2,
     "metadata": {},
     "output_type": "execute_result"
    }
   ],
   "source": [
    "features = [line.strip() for line in open('HAPT_Data_Set/features.txt','r')]\n",
    "sub_features = [(features.index(s), s) for s in features if ('Mag' in s) or ('Angle' in s)]\n",
    "sub_features_indices = [i[0] for i in sub_features]\n",
    "sub_features_names = [i[1] for i in sub_features]\n",
    "df = pd.read_table('HAPT_Data_Set/Train/X_train.txt', delimiter=' ',\n",
    "                       usecols=sub_features_indices, names=sub_features_names)\n",
    "subjects = [line.strip() for line in open('HAPT_Data_Set/Train/subject_id_train.txt','r')]\n",
    "df['subject'] = subjects\n",
    "activity = [line.strip() for line in open('HAPT_Data_Set/Train/y_train.txt','r')]\n",
    "df['activity'] = activity\n",
    "df.head()"
   ]
  },
  {
   "cell_type": "code",
   "execution_count": 3,
   "metadata": {
    "collapsed": false
   },
   "outputs": [
    {
     "data": {
      "text/html": [
       "<div>\n",
       "<table border=\"1\" class=\"dataframe\">\n",
       "  <thead>\n",
       "    <tr style=\"text-align: right;\">\n",
       "      <th></th>\n",
       "      <th>tBodyAccMag-Mean-1</th>\n",
       "      <th>tBodyAccMag-STD-1</th>\n",
       "      <th>tBodyAccMag-Mad-1</th>\n",
       "      <th>tBodyAccMag-Max-1</th>\n",
       "      <th>tBodyAccMag-Min-1</th>\n",
       "      <th>tBodyAccMag-SMA-1</th>\n",
       "      <th>tBodyAccMag-Energy-1</th>\n",
       "      <th>tBodyAccMag-IQR-1</th>\n",
       "      <th>tBodyAccMag-ropy-1</th>\n",
       "      <th>tBodyAccMag-ARCoeff-1</th>\n",
       "      <th>...</th>\n",
       "      <th>fBodyGyroJerkMag-MeanFreq-1</th>\n",
       "      <th>fBodyGyroJerkMag-Skewness-1</th>\n",
       "      <th>fBodyGyroJerkMag-Kurtosis-1</th>\n",
       "      <th>tBodyAcc-AngleWRTGravity-1</th>\n",
       "      <th>tBodyAccJerk-AngleWRTGravity-1</th>\n",
       "      <th>tBodyGyro-AngleWRTGravity-1</th>\n",
       "      <th>tBodyGyroJerk-AngleWRTGravity-1</th>\n",
       "      <th>tXAxisAcc-AngleWRTGravity-1</th>\n",
       "      <th>tYAxisAcc-AngleWRTGravity-1</th>\n",
       "      <th>tZAxisAcc-AngleWRTGravity-1</th>\n",
       "    </tr>\n",
       "  </thead>\n",
       "  <tbody>\n",
       "    <tr>\n",
       "      <th>count</th>\n",
       "      <td>7767.000000</td>\n",
       "      <td>7767.000000</td>\n",
       "      <td>7767.000000</td>\n",
       "      <td>7767.000000</td>\n",
       "      <td>7767.000000</td>\n",
       "      <td>7767.000000</td>\n",
       "      <td>7767.000000</td>\n",
       "      <td>7767.000000</td>\n",
       "      <td>7767.000000</td>\n",
       "      <td>7767.000000</td>\n",
       "      <td>...</td>\n",
       "      <td>7767.000000</td>\n",
       "      <td>7767.000000</td>\n",
       "      <td>7767.000000</td>\n",
       "      <td>7767.000000</td>\n",
       "      <td>7767.000000</td>\n",
       "      <td>7767.000000</td>\n",
       "      <td>7767.000000</td>\n",
       "      <td>7767.000000</td>\n",
       "      <td>7767.000000</td>\n",
       "      <td>7767.000000</td>\n",
       "    </tr>\n",
       "    <tr>\n",
       "      <th>mean</th>\n",
       "      <td>-0.627607</td>\n",
       "      <td>-0.654652</td>\n",
       "      <td>-0.693659</td>\n",
       "      <td>-0.532244</td>\n",
       "      <td>-0.864681</td>\n",
       "      <td>-0.627607</td>\n",
       "      <td>-0.851118</td>\n",
       "      <td>-0.758387</td>\n",
       "      <td>0.166886</td>\n",
       "      <td>-0.045359</td>\n",
       "      <td>...</td>\n",
       "      <td>0.161745</td>\n",
       "      <td>-0.316548</td>\n",
       "      <td>-0.625132</td>\n",
       "      <td>0.016774</td>\n",
       "      <td>0.018471</td>\n",
       "      <td>0.009239</td>\n",
       "      <td>-0.005184</td>\n",
       "      <td>-0.485936</td>\n",
       "      <td>0.050310</td>\n",
       "      <td>-0.052888</td>\n",
       "    </tr>\n",
       "    <tr>\n",
       "      <th>std</th>\n",
       "      <td>0.381838</td>\n",
       "      <td>0.360414</td>\n",
       "      <td>0.325759</td>\n",
       "      <td>0.474890</td>\n",
       "      <td>0.174854</td>\n",
       "      <td>0.381838</td>\n",
       "      <td>0.198031</td>\n",
       "      <td>0.274643</td>\n",
       "      <td>0.666728</td>\n",
       "      <td>0.302973</td>\n",
       "      <td>...</td>\n",
       "      <td>0.237319</td>\n",
       "      <td>0.313899</td>\n",
       "      <td>0.302581</td>\n",
       "      <td>0.331326</td>\n",
       "      <td>0.443540</td>\n",
       "      <td>0.601208</td>\n",
       "      <td>0.477218</td>\n",
       "      <td>0.509278</td>\n",
       "      <td>0.300866</td>\n",
       "      <td>0.276196</td>\n",
       "    </tr>\n",
       "    <tr>\n",
       "      <th>min</th>\n",
       "      <td>-1.000000</td>\n",
       "      <td>-1.000000</td>\n",
       "      <td>-1.000000</td>\n",
       "      <td>-1.000000</td>\n",
       "      <td>-1.000000</td>\n",
       "      <td>-1.000000</td>\n",
       "      <td>-1.000000</td>\n",
       "      <td>-1.000000</td>\n",
       "      <td>-1.000000</td>\n",
       "      <td>-1.000000</td>\n",
       "      <td>...</td>\n",
       "      <td>-0.958535</td>\n",
       "      <td>-1.000000</td>\n",
       "      <td>-1.000000</td>\n",
       "      <td>-0.976580</td>\n",
       "      <td>-1.000000</td>\n",
       "      <td>-1.000000</td>\n",
       "      <td>-1.000000</td>\n",
       "      <td>-1.000000</td>\n",
       "      <td>-1.000000</td>\n",
       "      <td>-0.987874</td>\n",
       "    </tr>\n",
       "    <tr>\n",
       "      <th>25%</th>\n",
       "      <td>-0.986273</td>\n",
       "      <td>-0.985412</td>\n",
       "      <td>-0.987202</td>\n",
       "      <td>-0.980871</td>\n",
       "      <td>-0.994161</td>\n",
       "      <td>-0.986273</td>\n",
       "      <td>-0.999761</td>\n",
       "      <td>-0.988963</td>\n",
       "      <td>-0.525887</td>\n",
       "      <td>-0.273569</td>\n",
       "      <td>...</td>\n",
       "      <td>0.020312</td>\n",
       "      <td>-0.548129</td>\n",
       "      <td>-0.843966</td>\n",
       "      <td>-0.108225</td>\n",
       "      <td>-0.261002</td>\n",
       "      <td>-0.470267</td>\n",
       "      <td>-0.373565</td>\n",
       "      <td>-0.810953</td>\n",
       "      <td>-0.047752</td>\n",
       "      <td>-0.140560</td>\n",
       "    </tr>\n",
       "    <tr>\n",
       "      <th>50%</th>\n",
       "      <td>-0.845111</td>\n",
       "      <td>-0.794509</td>\n",
       "      <td>-0.808414</td>\n",
       "      <td>-0.748429</td>\n",
       "      <td>-0.965850</td>\n",
       "      <td>-0.845111</td>\n",
       "      <td>-0.982626</td>\n",
       "      <td>-0.850536</td>\n",
       "      <td>0.331897</td>\n",
       "      <td>-0.048423</td>\n",
       "      <td>...</td>\n",
       "      <td>0.170819</td>\n",
       "      <td>-0.353980</td>\n",
       "      <td>-0.710071</td>\n",
       "      <td>0.017627</td>\n",
       "      <td>0.029079</td>\n",
       "      <td>0.001515</td>\n",
       "      <td>-0.005503</td>\n",
       "      <td>-0.706619</td>\n",
       "      <td>0.176777</td>\n",
       "      <td>0.004583</td>\n",
       "    </tr>\n",
       "    <tr>\n",
       "      <th>75%</th>\n",
       "      <td>-0.304371</td>\n",
       "      <td>-0.386994</td>\n",
       "      <td>-0.461897</td>\n",
       "      <td>-0.130424</td>\n",
       "      <td>-0.758163</td>\n",
       "      <td>-0.304371</td>\n",
       "      <td>-0.749931</td>\n",
       "      <td>-0.589297</td>\n",
       "      <td>0.814124</td>\n",
       "      <td>0.171563</td>\n",
       "      <td>...</td>\n",
       "      <td>0.316240</td>\n",
       "      <td>-0.137462</td>\n",
       "      <td>-0.503837</td>\n",
       "      <td>0.167695</td>\n",
       "      <td>0.314876</td>\n",
       "      <td>0.496871</td>\n",
       "      <td>0.352690</td>\n",
       "      <td>-0.488765</td>\n",
       "      <td>0.246834</td>\n",
       "      <td>0.109507</td>\n",
       "    </tr>\n",
       "    <tr>\n",
       "      <th>max</th>\n",
       "      <td>1.000000</td>\n",
       "      <td>0.928437</td>\n",
       "      <td>0.908050</td>\n",
       "      <td>1.000000</td>\n",
       "      <td>1.000000</td>\n",
       "      <td>1.000000</td>\n",
       "      <td>1.000000</td>\n",
       "      <td>0.961572</td>\n",
       "      <td>1.000000</td>\n",
       "      <td>1.000000</td>\n",
       "      <td>...</td>\n",
       "      <td>1.000000</td>\n",
       "      <td>0.938491</td>\n",
       "      <td>0.911653</td>\n",
       "      <td>1.000000</td>\n",
       "      <td>1.000000</td>\n",
       "      <td>0.998702</td>\n",
       "      <td>0.991288</td>\n",
       "      <td>1.000000</td>\n",
       "      <td>0.482229</td>\n",
       "      <td>1.000000</td>\n",
       "    </tr>\n",
       "  </tbody>\n",
       "</table>\n",
       "<p>8 rows × 124 columns</p>\n",
       "</div>"
      ],
      "text/plain": [
       "       tBodyAccMag-Mean-1  tBodyAccMag-STD-1  tBodyAccMag-Mad-1  \\\n",
       "count         7767.000000        7767.000000        7767.000000   \n",
       "mean            -0.627607          -0.654652          -0.693659   \n",
       "std              0.381838           0.360414           0.325759   \n",
       "min             -1.000000          -1.000000          -1.000000   \n",
       "25%             -0.986273          -0.985412          -0.987202   \n",
       "50%             -0.845111          -0.794509          -0.808414   \n",
       "75%             -0.304371          -0.386994          -0.461897   \n",
       "max              1.000000           0.928437           0.908050   \n",
       "\n",
       "       tBodyAccMag-Max-1  tBodyAccMag-Min-1  tBodyAccMag-SMA-1  \\\n",
       "count        7767.000000        7767.000000        7767.000000   \n",
       "mean           -0.532244          -0.864681          -0.627607   \n",
       "std             0.474890           0.174854           0.381838   \n",
       "min            -1.000000          -1.000000          -1.000000   \n",
       "25%            -0.980871          -0.994161          -0.986273   \n",
       "50%            -0.748429          -0.965850          -0.845111   \n",
       "75%            -0.130424          -0.758163          -0.304371   \n",
       "max             1.000000           1.000000           1.000000   \n",
       "\n",
       "       tBodyAccMag-Energy-1  tBodyAccMag-IQR-1  tBodyAccMag-ropy-1  \\\n",
       "count           7767.000000        7767.000000         7767.000000   \n",
       "mean              -0.851118          -0.758387            0.166886   \n",
       "std                0.198031           0.274643            0.666728   \n",
       "min               -1.000000          -1.000000           -1.000000   \n",
       "25%               -0.999761          -0.988963           -0.525887   \n",
       "50%               -0.982626          -0.850536            0.331897   \n",
       "75%               -0.749931          -0.589297            0.814124   \n",
       "max                1.000000           0.961572            1.000000   \n",
       "\n",
       "       tBodyAccMag-ARCoeff-1             ...               \\\n",
       "count            7767.000000             ...                \n",
       "mean               -0.045359             ...                \n",
       "std                 0.302973             ...                \n",
       "min                -1.000000             ...                \n",
       "25%                -0.273569             ...                \n",
       "50%                -0.048423             ...                \n",
       "75%                 0.171563             ...                \n",
       "max                 1.000000             ...                \n",
       "\n",
       "       fBodyGyroJerkMag-MeanFreq-1  fBodyGyroJerkMag-Skewness-1  \\\n",
       "count                  7767.000000                  7767.000000   \n",
       "mean                      0.161745                    -0.316548   \n",
       "std                       0.237319                     0.313899   \n",
       "min                      -0.958535                    -1.000000   \n",
       "25%                       0.020312                    -0.548129   \n",
       "50%                       0.170819                    -0.353980   \n",
       "75%                       0.316240                    -0.137462   \n",
       "max                       1.000000                     0.938491   \n",
       "\n",
       "       fBodyGyroJerkMag-Kurtosis-1  tBodyAcc-AngleWRTGravity-1  \\\n",
       "count                  7767.000000                 7767.000000   \n",
       "mean                     -0.625132                    0.016774   \n",
       "std                       0.302581                    0.331326   \n",
       "min                      -1.000000                   -0.976580   \n",
       "25%                      -0.843966                   -0.108225   \n",
       "50%                      -0.710071                    0.017627   \n",
       "75%                      -0.503837                    0.167695   \n",
       "max                       0.911653                    1.000000   \n",
       "\n",
       "       tBodyAccJerk-AngleWRTGravity-1  tBodyGyro-AngleWRTGravity-1  \\\n",
       "count                     7767.000000                  7767.000000   \n",
       "mean                         0.018471                     0.009239   \n",
       "std                          0.443540                     0.601208   \n",
       "min                         -1.000000                    -1.000000   \n",
       "25%                         -0.261002                    -0.470267   \n",
       "50%                          0.029079                     0.001515   \n",
       "75%                          0.314876                     0.496871   \n",
       "max                          1.000000                     0.998702   \n",
       "\n",
       "       tBodyGyroJerk-AngleWRTGravity-1  tXAxisAcc-AngleWRTGravity-1  \\\n",
       "count                      7767.000000                  7767.000000   \n",
       "mean                         -0.005184                    -0.485936   \n",
       "std                           0.477218                     0.509278   \n",
       "min                          -1.000000                    -1.000000   \n",
       "25%                          -0.373565                    -0.810953   \n",
       "50%                          -0.005503                    -0.706619   \n",
       "75%                           0.352690                    -0.488765   \n",
       "max                           0.991288                     1.000000   \n",
       "\n",
       "       tYAxisAcc-AngleWRTGravity-1  tZAxisAcc-AngleWRTGravity-1  \n",
       "count                  7767.000000                  7767.000000  \n",
       "mean                      0.050310                    -0.052888  \n",
       "std                       0.300866                     0.276196  \n",
       "min                      -1.000000                    -0.987874  \n",
       "25%                      -0.047752                    -0.140560  \n",
       "50%                       0.176777                     0.004583  \n",
       "75%                       0.246834                     0.109507  \n",
       "max                       0.482229                     1.000000  \n",
       "\n",
       "[8 rows x 124 columns]"
      ]
     },
     "execution_count": 3,
     "metadata": {},
     "output_type": "execute_result"
    }
   ],
   "source": [
    "df.describe()"
   ]
  },
  {
   "cell_type": "markdown",
   "metadata": {},
   "source": [
    "Step 2: Follow the same process for the testing table."
   ]
  },
  {
   "cell_type": "code",
   "execution_count": 4,
   "metadata": {
    "collapsed": true
   },
   "outputs": [],
   "source": [
    "df_test = pd.read_table('HAPT_Data_Set/Test/X_test.txt', delimiter=' ',\n",
    "                       usecols=sub_features_indices, names=sub_features_names)\n",
    "subjects_test = [line.strip() for line in open('HAPT_Data_Set/Test/subject_id_test.txt','r')]\n",
    "df_test['subject'] = subjects_test\n",
    "activity_test = [line.strip() for line in open('HAPT_Data_Set/Test/y_test.txt','r')]\n",
    "df_test['activity'] = activity_test"
   ]
  },
  {
   "cell_type": "markdown",
   "metadata": {},
   "source": [
    "Step 3: Exploratory Data Analysis (EDA): Choose one variable, and create histograms for the 12 activities to evaluate the ability of this particular variable to predict static vs dynamic activities."
   ]
  },
  {
   "cell_type": "code",
   "execution_count": 5,
   "metadata": {
    "collapsed": false
   },
   "outputs": [
    {
     "data": {
      "image/png": "[encoded data removed]",
      "text/plain": [
       "<matplotlib.figure.Figure at 0xedd8e44cc0>"
      ]
     },
     "metadata": {},
     "output_type": "display_data"
    }
   ],
   "source": [
    "df['tBodyAccMag-Mean-1'].hist(by=df['activity'],figsize=(12,12));"
   ]
  },
  {
   "cell_type": "markdown",
   "metadata": {},
   "source": [
    "Activities 4, 5, and 6 (sitting, standing, and laying) are the three static activities out of the 12 and show a very different distribution of units to the other 9 activities. They are also very similar in their distributions, which may render this variable largely ineffective in predicting these three activities. Also worth noting: Activities 7-12 have fairly low volumes compared to the rest."
   ]
  },
  {
   "cell_type": "markdown",
   "metadata": {},
   "source": [
    "Step 4: Split the initial training table into training and validation sets, and fit a random forest classifier using 500 estimators to the training set."
   ]
  },
  {
   "cell_type": "code",
   "execution_count": 6,
   "metadata": {
    "collapsed": false
   },
   "outputs": [
    {
     "data": {
      "text/plain": [
       "RandomForestClassifier(bootstrap=True, class_weight=None, criterion='gini',\n",
       "            max_depth=None, max_features='auto', max_leaf_nodes=None,\n",
       "            min_samples_leaf=1, min_samples_split=2,\n",
       "            min_weight_fraction_leaf=0.0, n_estimators=500, n_jobs=1,\n",
       "            oob_score=True, random_state=None, verbose=0, warm_start=False)"
      ]
     },
     "execution_count": 6,
     "metadata": {},
     "output_type": "execute_result"
    }
   ],
   "source": [
    "X = df[df.columns.tolist()[:-1]]\n",
    "y = df['activity']\n",
    "\n",
    "X_train, X_val, y_train, y_val = cv.train_test_split(X, y, train_size=0.8, random_state=0)\n",
    "clf = RandomForestClassifier(n_estimators=500, oob_score=True)\n",
    "clf.fit(X_train, y_train)"
   ]
  },
  {
   "cell_type": "markdown",
   "metadata": {},
   "source": [
    "Step 5: Rank the features by importance scores, and single out the top 10 features."
   ]
  },
  {
   "cell_type": "code",
   "execution_count": 7,
   "metadata": {
    "collapsed": false
   },
   "outputs": [
    {
     "data": {
      "text/plain": [
       "[('tXAxisAcc-AngleWRTGravity-1', 0.11828104827409373),\n",
       " ('tYAxisAcc-AngleWRTGravity-1', 0.10603319473553538),\n",
       " ('tZAxisAcc-AngleWRTGravity-1', 0.05711410414047458),\n",
       " ('tBodyAccJerkMag-IQR-1', 0.021075517754184155),\n",
       " ('tBodyAccJerkMag-Mean-1', 0.020576027789454904),\n",
       " ('tBodyAccJerkMag-SMA-1', 0.02007105804645482),\n",
       " ('tBodyAccJerkMag-Energy-1', 0.01919439062295633),\n",
       " ('fBodyAccMag-STD-1', 0.016349581436512047),\n",
       " ('tBodyAccJerkMag-ropy-1', 0.01555544096871922),\n",
       " ('tBodyGyroJerkMag-Mean-1', 0.015509956939020103)]"
      ]
     },
     "execution_count": 7,
     "metadata": {},
     "output_type": "execute_result"
    }
   ],
   "source": [
    "importance_scores = clf.feature_importances_.tolist()\n",
    "important_features = list(zip(df.columns.tolist()[:-1], importance_scores))\n",
    "important_features.sort(key=lambda x: x[1], reverse=True)\n",
    "top_10_features = important_features[:10]\n",
    "top_10_features"
   ]
  },
  {
   "cell_type": "markdown",
   "metadata": {},
   "source": [
    "Step 6: Identify the model's accuracy score on the validation set."
   ]
  },
  {
   "cell_type": "code",
   "execution_count": 8,
   "metadata": {
    "collapsed": false
   },
   "outputs": [
    {
     "data": {
      "text/plain": [
       "0.94465894465894462"
      ]
     },
     "execution_count": 8,
     "metadata": {},
     "output_type": "execute_result"
    }
   ],
   "source": [
    "predicted_from_val = clf.predict(X_val)\n",
    "expected_from_val = y_val\n",
    "\n",
    "metrics.accuracy_score(expected_from_val, predicted_from_val)"
   ]
  },
  {
   "cell_type": "markdown",
   "metadata": {},
   "source": [
    "Step 7: Identify the model's overall accuracy and OOB scores."
   ]
  },
  {
   "cell_type": "code",
   "execution_count": 9,
   "metadata": {
    "collapsed": false
   },
   "outputs": [
    {
     "data": {
      "text/plain": [
       "0.87539531941808979"
      ]
     },
     "execution_count": 9,
     "metadata": {},
     "output_type": "execute_result"
    }
   ],
   "source": [
    "predicted_from_test = clf.predict(df_test[df_test.columns.tolist()[:-1]])\n",
    "expected_from_test = df_test['activity']\n",
    "\n",
    "metrics.accuracy_score(expected_from_test, predicted_from_test)"
   ]
  },
  {
   "cell_type": "code",
   "execution_count": 10,
   "metadata": {
    "collapsed": false
   },
   "outputs": [
    {
     "data": {
      "text/plain": [
       "0.93915982617093197"
      ]
     },
     "execution_count": 10,
     "metadata": {},
     "output_type": "execute_result"
    }
   ],
   "source": [
    "clf.oob_score_"
   ]
  },
  {
   "cell_type": "markdown",
   "metadata": {},
   "source": [
    "Step 8: Identify precision, recall, and F1 scores on the individual activities from the test set. Print out a confusion matrix on the test set as well."
   ]
  },
  {
   "cell_type": "code",
   "execution_count": 11,
   "metadata": {
    "collapsed": false,
    "scrolled": true
   },
   "outputs": [
    {
     "data": {
      "text/html": [
       "<div>\n",
       "<table border=\"1\" class=\"dataframe\">\n",
       "  <thead>\n",
       "    <tr style=\"text-align: right;\">\n",
       "      <th></th>\n",
       "      <th>activity</th>\n",
       "      <th>f1</th>\n",
       "      <th>precision</th>\n",
       "      <th>recall</th>\n",
       "    </tr>\n",
       "  </thead>\n",
       "  <tbody>\n",
       "    <tr>\n",
       "      <th>0</th>\n",
       "      <td>1</td>\n",
       "      <td>0.899354</td>\n",
       "      <td>0.829642</td>\n",
       "      <td>0.981855</td>\n",
       "    </tr>\n",
       "    <tr>\n",
       "      <th>1</th>\n",
       "      <td>2</td>\n",
       "      <td>0.654545</td>\n",
       "      <td>0.600000</td>\n",
       "      <td>0.720000</td>\n",
       "    </tr>\n",
       "    <tr>\n",
       "      <th>2</th>\n",
       "      <td>3</td>\n",
       "      <td>0.505495</td>\n",
       "      <td>0.547619</td>\n",
       "      <td>0.469388</td>\n",
       "    </tr>\n",
       "    <tr>\n",
       "      <th>3</th>\n",
       "      <td>4</td>\n",
       "      <td>0.358974</td>\n",
       "      <td>0.583333</td>\n",
       "      <td>0.259259</td>\n",
       "    </tr>\n",
       "    <tr>\n",
       "      <th>4</th>\n",
       "      <td>5</td>\n",
       "      <td>0.831389</td>\n",
       "      <td>0.830508</td>\n",
       "      <td>0.832272</td>\n",
       "    </tr>\n",
       "    <tr>\n",
       "      <th>5</th>\n",
       "      <td>6</td>\n",
       "      <td>0.864230</td>\n",
       "      <td>0.956647</td>\n",
       "      <td>0.788095</td>\n",
       "    </tr>\n",
       "    <tr>\n",
       "      <th>6</th>\n",
       "      <td>7</td>\n",
       "      <td>0.859487</td>\n",
       "      <td>0.897216</td>\n",
       "      <td>0.824803</td>\n",
       "    </tr>\n",
       "    <tr>\n",
       "      <th>7</th>\n",
       "      <td>8</td>\n",
       "      <td>0.885813</td>\n",
       "      <td>0.853333</td>\n",
       "      <td>0.920863</td>\n",
       "    </tr>\n",
       "    <tr>\n",
       "      <th>8</th>\n",
       "      <td>9</td>\n",
       "      <td>0.997245</td>\n",
       "      <td>0.998162</td>\n",
       "      <td>0.996330</td>\n",
       "    </tr>\n",
       "    <tr>\n",
       "      <th>9</th>\n",
       "      <td>10</td>\n",
       "      <td>0.512821</td>\n",
       "      <td>0.625000</td>\n",
       "      <td>0.434783</td>\n",
       "    </tr>\n",
       "    <tr>\n",
       "      <th>10</th>\n",
       "      <td>11</td>\n",
       "      <td>0.625000</td>\n",
       "      <td>0.833333</td>\n",
       "      <td>0.500000</td>\n",
       "    </tr>\n",
       "    <tr>\n",
       "      <th>11</th>\n",
       "      <td>12</td>\n",
       "      <td>0.583333</td>\n",
       "      <td>0.525000</td>\n",
       "      <td>0.656250</td>\n",
       "    </tr>\n",
       "  </tbody>\n",
       "</table>\n",
       "</div>"
      ],
      "text/plain": [
       "    activity        f1  precision    recall\n",
       "0          1  0.899354   0.829642  0.981855\n",
       "1          2  0.654545   0.600000  0.720000\n",
       "2          3  0.505495   0.547619  0.469388\n",
       "3          4  0.358974   0.583333  0.259259\n",
       "4          5  0.831389   0.830508  0.832272\n",
       "5          6  0.864230   0.956647  0.788095\n",
       "6          7  0.859487   0.897216  0.824803\n",
       "7          8  0.885813   0.853333  0.920863\n",
       "8          9  0.997245   0.998162  0.996330\n",
       "9         10  0.512821   0.625000  0.434783\n",
       "10        11  0.625000   0.833333  0.500000\n",
       "11        12  0.583333   0.525000  0.656250"
      ]
     },
     "execution_count": 11,
     "metadata": {},
     "output_type": "execute_result"
    }
   ],
   "source": [
    "df_metrics = pd.DataFrame({'activity':range(1,13),\n",
    "                           'precision':metrics.precision_score(expected_from_test, predicted_from_test, average=None),\n",
    "                           'recall':metrics.recall_score(expected_from_test, predicted_from_test, average=None),\n",
    "                           'f1':metrics.f1_score(expected_from_test, predicted_from_test, average=None)})\n",
    "df_metrics"
   ]
  },
  {
   "cell_type": "code",
   "execution_count": 12,
   "metadata": {
    "collapsed": false
   },
   "outputs": [
    {
     "data": {
      "image/png": "[encoded data removed]",
      "text/plain": [
       "<matplotlib.figure.Figure at 0xedde11c390>"
      ]
     },
     "metadata": {},
     "output_type": "display_data"
    }
   ],
   "source": [
    "ax = df_metrics.plot(kind='scatter', x='activity', y='f1',\n",
    "                     c='Yellow', label='F1 Score', figsize=(12, 8))\n",
    "df_metrics.plot(kind='scatter', x='activity', y='precision',\n",
    "                c='White', label='Precision Score', ax=ax)\n",
    "df_metrics.plot(kind='scatter', x='activity', y='recall',\n",
    "                c='Black', label='Recall Score', ax=ax)\n",
    "plt.title('Metrics by Activity')\n",
    "plt.xlabel('Activity')\n",
    "plt.ylabel('Score')\n",
    "plt.axis([0,13,0,1.1])\n",
    "plt.xticks(np.arange(13),\n",
    "           ['']+[line.strip() for line in open('HAPT_Data_Set/activity_labels.txt','r')],\n",
    "           rotation=270);"
   ]
  },
  {
   "cell_type": "code",
   "execution_count": 13,
   "metadata": {
    "collapsed": false
   },
   "outputs": [
    {
     "data": {
      "text/plain": [
       "array([[487,   0,   2,   1,  71,  26,   0,   0,   0,   0,   0,   0],\n",
       "       [  0,  18,   0,  11,   0,   0,   0,   0,   0,   0,   0,   1],\n",
       "       [  0,   1,  23,   5,   0,   0,   0,   0,   0,   3,   1,   9],\n",
       "       [  0,   4,   1,   7,   0,   0,   0,   0,   0,   0,   0,   0],\n",
       "       [  3,   1,   6,   0, 392,  63,   0,   0,   1,   5,   0,   1],\n",
       "       [  6,   0,   0,   0,   8, 331,   0,   0,   0,   1,   0,   0],\n",
       "       [  0,   0,   1,   0,   0,   0, 419,  43,   0,   3,   1,   0],\n",
       "       [  0,   0,   0,   0,   0,   0,  88, 512,   0,   0,   0,   0],\n",
       "       [  0,   0,   1,   0,   0,   0,   0,   0, 543,   0,   0,   0],\n",
       "       [  0,   0,   2,   0,   0,   0,   1,   1,   1,  10,   1,   0],\n",
       "       [  0,   0,   0,   0,   0,   0,   0,   0,   0,   1,   5,   0],\n",
       "       [  0,   1,  13,   3,   0,   0,   0,   0,   0,   0,   2,  21]])"
      ]
     },
     "execution_count": 13,
     "metadata": {},
     "output_type": "execute_result"
    }
   ],
   "source": [
    "metrics.confusion_matrix(predicted_from_test, expected_from_test)"
   ]
  },
  {
   "cell_type": "markdown",
   "metadata": {},
   "source": [
    "Conclusion: The random forest classifier produced strong results on the test data set, as evidenced by the accuracy and OOB scores. Looking at precision and recall for each individual activity, scores are surprisingly high for activities 7-12 considering the low volume of records in the train set. Conversely, the model mistook several differrent actions for sitting, including all three walking activities, leading to a dismal accuracy score of .26. This result would warrant further investigation and perhaps the use of a different model with the end goal of achieving more consistent results across all activities, as the current results vary widely."
   ]
  }
 ],
 "metadata": {
  "kernelspec": {
   "display_name": "Python 3",
   "language": "python",
   "name": "python3"
  },
  "language_info": {
   "codemirror_mode": {
    "name": "ipython",
    "version": 3
   },
   "file_extension": ".py",
   "mimetype": "text/x-python",
   "name": "python",
   "nbconvert_exporter": "python",
   "pygments_lexer": "ipython3",
   "version": "3.5.2"
  }
 },
 "nbformat": 4,
 "nbformat_minor": 0
}
