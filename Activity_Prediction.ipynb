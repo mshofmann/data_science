{
 "cells": [
  {
   "cell_type": "markdown",
   "metadata": {},
   "source": [
    "# Activity Prediction\n",
    "\n",
    "#### Thirty volunteers engaged in 12 different physical activities. They were wearing a smartphone, which captured movement data via the embedded accelerometer and gyroscope. Below, a subset of the collected data was used to attempt to classify what movement the volunteers made. A random forest classifier was the tool of choice, as there were a large number of variables.\n",
    "\n",
    "#### A more thorough description of the experiment and dataset can be found here:\n",
    "http://archive.ics.uci.edu/ml/datasets/Smartphone-Based+Recognition+of+Human+Activities+and+Postural+Transitions"
   ]
  },
  {
   "cell_type": "code",
   "execution_count": 1,
   "metadata": {
    "collapsed": true
   },
   "outputs": [],
   "source": [
    "%matplotlib inline\n",
    "import pandas as pd\n",
    "from sklearn import cross_validation as cv\n",
    "from sklearn.ensemble import RandomForestClassifier\n",
    "from sklearn import metrics"
   ]
  },
  {
   "cell_type": "markdown",
   "metadata": {},
   "source": [
    "#### Read in the data for the training table, filtered for 'Mag' and 'Angle' variables, and add 'subject' and 'activity' columns."
   ]
  },
  {
   "cell_type": "code",
   "execution_count": 2,
   "metadata": {
    "collapsed": false
   },
   "outputs": [
    {
     "data": {
      "text/html": [
       "<div>\n",
       "<table border=\"1\" class=\"dataframe\">\n",
       "  <thead>\n",
       "    <tr style=\"text-align: right;\">\n",
       "      <th></th>\n",
       "      <th>tBodyAccMag-Mean-1</th>\n",
       "      <th>tBodyAccMag-STD-1</th>\n",
       "      <th>tBodyAccMag-Mad-1</th>\n",
       "      <th>tBodyAccMag-Max-1</th>\n",
       "      <th>tBodyAccMag-Min-1</th>\n",
       "      <th>tBodyAccMag-SMA-1</th>\n",
       "      <th>tBodyAccMag-Energy-1</th>\n",
       "      <th>tBodyAccMag-IQR-1</th>\n",
       "      <th>tBodyAccMag-ropy-1</th>\n",
       "      <th>tBodyAccMag-ARCoeff-1</th>\n",
       "      <th>...</th>\n",
       "      <th>fBodyGyroJerkMag-Kurtosis-1</th>\n",
       "      <th>tBodyAcc-AngleWRTGravity-1</th>\n",
       "      <th>tBodyAccJerk-AngleWRTGravity-1</th>\n",
       "      <th>tBodyGyro-AngleWRTGravity-1</th>\n",
       "      <th>tBodyGyroJerk-AngleWRTGravity-1</th>\n",
       "      <th>tXAxisAcc-AngleWRTGravity-1</th>\n",
       "      <th>tYAxisAcc-AngleWRTGravity-1</th>\n",
       "      <th>tZAxisAcc-AngleWRTGravity-1</th>\n",
       "      <th>subject</th>\n",
       "      <th>activity</th>\n",
       "    </tr>\n",
       "  </thead>\n",
       "  <tbody>\n",
       "    <tr>\n",
       "      <th>0</th>\n",
       "      <td>-0.969546</td>\n",
       "      <td>-0.961540</td>\n",
       "      <td>-0.967646</td>\n",
       "      <td>-0.947236</td>\n",
       "      <td>-0.994174</td>\n",
       "      <td>-0.969546</td>\n",
       "      <td>-0.999150</td>\n",
       "      <td>-0.970525</td>\n",
       "      <td>-0.219620</td>\n",
       "      <td>-0.124072</td>\n",
       "      <td>...</td>\n",
       "      <td>-0.713308</td>\n",
       "      <td>-0.112754</td>\n",
       "      <td>0.030400</td>\n",
       "      <td>-0.464761</td>\n",
       "      <td>-0.018446</td>\n",
       "      <td>-0.841559</td>\n",
       "      <td>0.179913</td>\n",
       "      <td>-0.051718</td>\n",
       "      <td>1</td>\n",
       "      <td>5</td>\n",
       "    </tr>\n",
       "    <tr>\n",
       "      <th>1</th>\n",
       "      <td>-0.984484</td>\n",
       "      <td>-0.981042</td>\n",
       "      <td>-0.983105</td>\n",
       "      <td>-0.979658</td>\n",
       "      <td>-0.996348</td>\n",
       "      <td>-0.984484</td>\n",
       "      <td>-0.999709</td>\n",
       "      <td>-0.986893</td>\n",
       "      <td>-0.426713</td>\n",
       "      <td>0.129618</td>\n",
       "      <td>...</td>\n",
       "      <td>-0.860677</td>\n",
       "      <td>0.053477</td>\n",
       "      <td>-0.007435</td>\n",
       "      <td>-0.732626</td>\n",
       "      <td>0.703511</td>\n",
       "      <td>-0.845092</td>\n",
       "      <td>0.180261</td>\n",
       "      <td>-0.047436</td>\n",
       "      <td>1</td>\n",
       "      <td>5</td>\n",
       "    </tr>\n",
       "    <tr>\n",
       "      <th>2</th>\n",
       "      <td>-0.987805</td>\n",
       "      <td>-0.990189</td>\n",
       "      <td>-0.990798</td>\n",
       "      <td>-0.987446</td>\n",
       "      <td>-0.996348</td>\n",
       "      <td>-0.987805</td>\n",
       "      <td>-0.999818</td>\n",
       "      <td>-0.990025</td>\n",
       "      <td>-0.583114</td>\n",
       "      <td>0.086279</td>\n",
       "      <td>...</td>\n",
       "      <td>-0.761847</td>\n",
       "      <td>-0.118559</td>\n",
       "      <td>0.177899</td>\n",
       "      <td>0.100699</td>\n",
       "      <td>0.808529</td>\n",
       "      <td>-0.849230</td>\n",
       "      <td>0.180610</td>\n",
       "      <td>-0.042271</td>\n",
       "      <td>1</td>\n",
       "      <td>5</td>\n",
       "    </tr>\n",
       "    <tr>\n",
       "      <th>3</th>\n",
       "      <td>-0.989940</td>\n",
       "      <td>-0.988966</td>\n",
       "      <td>-0.989351</td>\n",
       "      <td>-0.987446</td>\n",
       "      <td>-0.997687</td>\n",
       "      <td>-0.989940</td>\n",
       "      <td>-0.999849</td>\n",
       "      <td>-0.988460</td>\n",
       "      <td>-0.572296</td>\n",
       "      <td>-0.044082</td>\n",
       "      <td>...</td>\n",
       "      <td>-0.491604</td>\n",
       "      <td>-0.036788</td>\n",
       "      <td>-0.012892</td>\n",
       "      <td>0.640011</td>\n",
       "      <td>-0.485366</td>\n",
       "      <td>-0.848947</td>\n",
       "      <td>0.181907</td>\n",
       "      <td>-0.040826</td>\n",
       "      <td>1</td>\n",
       "      <td>5</td>\n",
       "    </tr>\n",
       "    <tr>\n",
       "      <th>4</th>\n",
       "      <td>-0.994669</td>\n",
       "      <td>-0.992678</td>\n",
       "      <td>-0.992968</td>\n",
       "      <td>-0.991914</td>\n",
       "      <td>-0.997687</td>\n",
       "      <td>-0.994669</td>\n",
       "      <td>-0.999929</td>\n",
       "      <td>-0.992688</td>\n",
       "      <td>-0.686673</td>\n",
       "      <td>0.228080</td>\n",
       "      <td>...</td>\n",
       "      <td>-0.702490</td>\n",
       "      <td>0.123320</td>\n",
       "      <td>0.122542</td>\n",
       "      <td>0.693578</td>\n",
       "      <td>-0.615971</td>\n",
       "      <td>-0.848164</td>\n",
       "      <td>0.185124</td>\n",
       "      <td>-0.037080</td>\n",
       "      <td>1</td>\n",
       "      <td>5</td>\n",
       "    </tr>\n",
       "  </tbody>\n",
       "</table>\n",
       "<p>5 rows × 126 columns</p>\n",
       "</div>"
      ],
      "text/plain": [
       "   tBodyAccMag-Mean-1  tBodyAccMag-STD-1  tBodyAccMag-Mad-1  \\\n",
       "0           -0.969546          -0.961540          -0.967646   \n",
       "1           -0.984484          -0.981042          -0.983105   \n",
       "2           -0.987805          -0.990189          -0.990798   \n",
       "3           -0.989940          -0.988966          -0.989351   \n",
       "4           -0.994669          -0.992678          -0.992968   \n",
       "\n",
       "   tBodyAccMag-Max-1  tBodyAccMag-Min-1  tBodyAccMag-SMA-1  \\\n",
       "0          -0.947236          -0.994174          -0.969546   \n",
       "1          -0.979658          -0.996348          -0.984484   \n",
       "2          -0.987446          -0.996348          -0.987805   \n",
       "3          -0.987446          -0.997687          -0.989940   \n",
       "4          -0.991914          -0.997687          -0.994669   \n",
       "\n",
       "   tBodyAccMag-Energy-1  tBodyAccMag-IQR-1  tBodyAccMag-ropy-1  \\\n",
       "0             -0.999150          -0.970525           -0.219620   \n",
       "1             -0.999709          -0.986893           -0.426713   \n",
       "2             -0.999818          -0.990025           -0.583114   \n",
       "3             -0.999849          -0.988460           -0.572296   \n",
       "4             -0.999929          -0.992688           -0.686673   \n",
       "\n",
       "   tBodyAccMag-ARCoeff-1    ...     fBodyGyroJerkMag-Kurtosis-1  \\\n",
       "0              -0.124072    ...                       -0.713308   \n",
       "1               0.129618    ...                       -0.860677   \n",
       "2               0.086279    ...                       -0.761847   \n",
       "3              -0.044082    ...                       -0.491604   \n",
       "4               0.228080    ...                       -0.702490   \n",
       "\n",
       "   tBodyAcc-AngleWRTGravity-1  tBodyAccJerk-AngleWRTGravity-1  \\\n",
       "0                   -0.112754                        0.030400   \n",
       "1                    0.053477                       -0.007435   \n",
       "2                   -0.118559                        0.177899   \n",
       "3                   -0.036788                       -0.012892   \n",
       "4                    0.123320                        0.122542   \n",
       "\n",
       "   tBodyGyro-AngleWRTGravity-1  tBodyGyroJerk-AngleWRTGravity-1  \\\n",
       "0                    -0.464761                        -0.018446   \n",
       "1                    -0.732626                         0.703511   \n",
       "2                     0.100699                         0.808529   \n",
       "3                     0.640011                        -0.485366   \n",
       "4                     0.693578                        -0.615971   \n",
       "\n",
       "   tXAxisAcc-AngleWRTGravity-1  tYAxisAcc-AngleWRTGravity-1  \\\n",
       "0                    -0.841559                     0.179913   \n",
       "1                    -0.845092                     0.180261   \n",
       "2                    -0.849230                     0.180610   \n",
       "3                    -0.848947                     0.181907   \n",
       "4                    -0.848164                     0.185124   \n",
       "\n",
       "   tZAxisAcc-AngleWRTGravity-1  subject  activity  \n",
       "0                    -0.051718        1         5  \n",
       "1                    -0.047436        1         5  \n",
       "2                    -0.042271        1         5  \n",
       "3                    -0.040826        1         5  \n",
       "4                    -0.037080        1         5  \n",
       "\n",
       "[5 rows x 126 columns]"
      ]
     },
     "execution_count": 2,
     "metadata": {},
     "output_type": "execute_result"
    }
   ],
   "source": [
    "features = [line.strip() for line in open('HAPT_Data_Set/features.txt','r')]\n",
    "sub_features = [(features.index(s), s) for s in features if ('Mag' in s) or ('Angle' in s)]\n",
    "sub_features_indices = [i[0] for i in sub_features]\n",
    "sub_features_names = [i[1] for i in sub_features]\n",
    "df = pd.read_table('HAPT_Data_Set/Train/X_train.txt', delimiter=' ',\n",
    "                       usecols=sub_features_indices, names=sub_features_names)\n",
    "subjects = [line.strip() for line in open('HAPT_Data_Set/Train/subject_id_train.txt','r')]\n",
    "df['subject'] = subjects\n",
    "activity = [line.strip() for line in open('HAPT_Data_Set/Train/y_train.txt','r')]\n",
    "df['activity'] = activity\n",
    "df.head()"
   ]
  },
  {
   "cell_type": "markdown",
   "metadata": {},
   "source": [
    "#### Follow the same process for the testing table."
   ]
  },
  {
   "cell_type": "code",
   "execution_count": 3,
   "metadata": {
    "collapsed": true
   },
   "outputs": [],
   "source": [
    "df_test = pd.read_table('HAPT_Data_Set/Test/X_test.txt', delimiter=' ',\n",
    "                       usecols=sub_features_indices, names=sub_features_names)\n",
    "subjects_test = [line.strip() for line in open('HAPT_Data_Set/Test/subject_id_test.txt','r')]\n",
    "df_test['subject'] = subjects_test\n",
    "activity_test = [line.strip() for line in open('HAPT_Data_Set/Test/y_test.txt','r')]\n",
    "df_test['activity'] = activity_test"
   ]
  },
  {
   "cell_type": "markdown",
   "metadata": {},
   "source": [
    "#### Plot body acceleration magnitude histograms for the 12 activities to evaluate the ability of this particular variable to predict static vs dynamic activities."
   ]
  },
  {
   "cell_type": "code",
   "execution_count": 4,
   "metadata": {
    "collapsed": false
   },
   "outputs": [
    {
     "data": {
      "image/png": "[encoded data removed]",
      "text/plain": [
       "<matplotlib.figure.Figure at 0xbb0f20f780>"
      ]
     },
     "metadata": {},
     "output_type": "display_data"
    }
   ],
   "source": [
    "df['tBodyAccMag-Mean-1'].hist(by=df['activity'],figsize=(12,12));"
   ]
  },
  {
   "cell_type": "markdown",
   "metadata": {},
   "source": [
    "#### Split the initial training table into training and validation sets, and fit a random forest classifier to the training set."
   ]
  },
  {
   "cell_type": "code",
   "execution_count": 5,
   "metadata": {
    "collapsed": false
   },
   "outputs": [
    {
     "data": {
      "text/plain": [
       "RandomForestClassifier(bootstrap=True, class_weight=None, criterion='gini',\n",
       "            max_depth=None, max_features='auto', max_leaf_nodes=None,\n",
       "            min_samples_leaf=1, min_samples_split=2,\n",
       "            min_weight_fraction_leaf=0.0, n_estimators=500, n_jobs=1,\n",
       "            oob_score=True, random_state=None, verbose=0, warm_start=False)"
      ]
     },
     "execution_count": 5,
     "metadata": {},
     "output_type": "execute_result"
    }
   ],
   "source": [
    "X = df[df.columns.tolist()[:-1]]\n",
    "y = df['activity']\n",
    "\n",
    "X_train, X_val, y_train, y_val = cv.train_test_split(X, y, train_size=0.8, random_state=0)\n",
    "clf = RandomForestClassifier(n_estimators=500, oob_score=True)\n",
    "clf.fit(X_train, y_train)"
   ]
  },
  {
   "cell_type": "markdown",
   "metadata": {},
   "source": [
    "#### Rank the features by importance scores, and single out the top 10 features."
   ]
  },
  {
   "cell_type": "code",
   "execution_count": 6,
   "metadata": {
    "collapsed": false
   },
   "outputs": [
    {
     "data": {
      "text/plain": [
       "[('tXAxisAcc-AngleWRTGravity-1', 0.1202570917279204),\n",
       " ('tYAxisAcc-AngleWRTGravity-1', 0.10219373443557674),\n",
       " ('tZAxisAcc-AngleWRTGravity-1', 0.058339538501127344),\n",
       " ('tBodyAccJerkMag-ropy-1', 0.020613954207246373),\n",
       " ('tBodyAccJerkMag-Energy-1', 0.020311065725199372),\n",
       " ('tBodyAccJerkMag-SMA-1', 0.020185554237886736),\n",
       " ('tBodyAccJerkMag-Mean-1', 0.01856971240664001),\n",
       " ('tBodyAccJerkMag-IQR-1', 0.017638799632304348),\n",
       " ('tBodyGyroJerkMag-Mean-1', 0.017357349973420613),\n",
       " ('tBodyAccMag-ARCoeff-1', 0.015605708367916013)]"
      ]
     },
     "execution_count": 6,
     "metadata": {},
     "output_type": "execute_result"
    }
   ],
   "source": [
    "importance_scores = clf.feature_importances_.tolist()\n",
    "important_features = list(zip(df.columns.tolist()[:-1], importance_scores))\n",
    "important_features.sort(key=lambda x: x[1], reverse=True)\n",
    "top_10_features = important_features[:10]\n",
    "top_10_features"
   ]
  },
  {
   "cell_type": "markdown",
   "metadata": {},
   "source": [
    "#### Identify the model's accuracy score on the validation set, and then the accuracy, precision, recall, F1, and OOB scores on the test set. Print out a confusion matrix on the test set as well."
   ]
  },
  {
   "cell_type": "code",
   "execution_count": 7,
   "metadata": {
    "collapsed": false
   },
   "outputs": [
    {
     "data": {
      "text/plain": [
       "0.94658944658944655"
      ]
     },
     "execution_count": 7,
     "metadata": {},
     "output_type": "execute_result"
    }
   ],
   "source": [
    "predicted_from_val = clf.predict(X_val)\n",
    "expected_from_val = y_val\n",
    "\n",
    "metrics.accuracy_score(expected_from_val, predicted_from_val)"
   ]
  },
  {
   "cell_type": "code",
   "execution_count": 8,
   "metadata": {
    "collapsed": false
   },
   "outputs": [
    {
     "data": {
      "text/plain": [
       "0.8801391524351676"
      ]
     },
     "execution_count": 8,
     "metadata": {},
     "output_type": "execute_result"
    }
   ],
   "source": [
    "predicted_from_test = clf.predict(df_test[df_test.columns.tolist()[:-1]])\n",
    "expected_from_test = df_test['activity']\n",
    "\n",
    "metrics.accuracy_score(expected_from_test, predicted_from_test)"
   ]
  },
  {
   "cell_type": "code",
   "execution_count": 9,
   "metadata": {
    "collapsed": false
   },
   "outputs": [
    {
     "data": {
      "text/plain": [
       "array([ 0.83047945,  0.62068966,  0.6097561 ,  0.58333333,  0.82463466,\n",
       "        0.95652174,  0.9044586 ,  0.86363636,  1.        ,  0.61111111,\n",
       "        0.75      ,  0.62162162])"
      ]
     },
     "execution_count": 9,
     "metadata": {},
     "output_type": "execute_result"
    }
   ],
   "source": [
    "metrics.precision_score(expected_from_test, predicted_from_test, average=None)"
   ]
  },
  {
   "cell_type": "code",
   "execution_count": 10,
   "metadata": {
    "collapsed": false
   },
   "outputs": [
    {
     "data": {
      "text/plain": [
       "array([ 0.97782258,  0.72      ,  0.51020408,  0.25925926,  0.83864119,\n",
       "        0.78571429,  0.83858268,  0.92266187,  0.99816514,  0.47826087,\n",
       "        0.6       ,  0.71875   ])"
      ]
     },
     "execution_count": 10,
     "metadata": {},
     "output_type": "execute_result"
    }
   ],
   "source": [
    "metrics.recall_score(expected_from_test, predicted_from_test, average=None)"
   ]
  },
  {
   "cell_type": "code",
   "execution_count": 11,
   "metadata": {
    "collapsed": false
   },
   "outputs": [
    {
     "data": {
      "text/plain": [
       "array([ 0.89814815,  0.66666667,  0.55555556,  0.35897436,  0.83157895,\n",
       "        0.8627451 ,  0.87027579,  0.89217391,  0.99908173,  0.53658537,\n",
       "        0.66666667,  0.66666667])"
      ]
     },
     "execution_count": 11,
     "metadata": {},
     "output_type": "execute_result"
    }
   ],
   "source": [
    "metrics.f1_score(expected_from_test, predicted_from_test, average=None)"
   ]
  },
  {
   "cell_type": "code",
   "execution_count": 12,
   "metadata": {
    "collapsed": false
   },
   "outputs": [
    {
     "data": {
      "text/plain": [
       "0.94012554321583774"
      ]
     },
     "execution_count": 12,
     "metadata": {},
     "output_type": "execute_result"
    }
   ],
   "source": [
    "clf.oob_score_"
   ]
  },
  {
   "cell_type": "code",
   "execution_count": 13,
   "metadata": {
    "collapsed": false
   },
   "outputs": [
    {
     "data": {
      "text/plain": [
       "array([[485,   0,   0,   0,   4,   7,   0,   0,   0,   0,   0,   0],\n",
       "       [  0,  18,   1,   5,   1,   0,   0,   0,   0,   0,   0,   0],\n",
       "       [  2,   0,  25,   0,   6,   1,   1,   0,   0,   3,   0,  11],\n",
       "       [  1,  11,   5,   7,   1,   0,   0,   0,   0,   0,   0,   2],\n",
       "       [ 69,   0,   0,   0, 395,   7,   0,   0,   0,   0,   0,   0],\n",
       "       [ 27,   0,   0,   0,  63, 330,   0,   0,   0,   0,   0,   0],\n",
       "       [  0,   0,   0,   0,   0,   0, 426,  81,   0,   1,   0,   0],\n",
       "       [  0,   0,   0,   0,   0,   0,  42, 513,   0,   1,   0,   0],\n",
       "       [  0,   0,   0,   0,   1,   0,   0,   0, 544,   0,   0,   0],\n",
       "       [  0,   0,   3,   0,   6,   0,   1,   0,   0,  11,   2,   0],\n",
       "       [  0,   0,   0,   0,   0,   0,   1,   0,   0,   2,   6,   1],\n",
       "       [  0,   0,   7,   0,   2,   0,   0,   0,   0,   0,   0,  23]])"
      ]
     },
     "execution_count": 13,
     "metadata": {},
     "output_type": "execute_result"
    }
   ],
   "source": [
    "metrics.confusion_matrix(expected_from_test, predicted_from_test)"
   ]
  }
 ],
 "metadata": {
  "kernelspec": {
   "display_name": "Python 3",
   "language": "python",
   "name": "python3"
  },
  "language_info": {
   "codemirror_mode": {
    "name": "ipython",
    "version": 3
   },
   "file_extension": ".py",
   "mimetype": "text/x-python",
   "name": "python",
   "nbconvert_exporter": "python",
   "pygments_lexer": "ipython3",
   "version": "3.5.1"
  }
 },
 "nbformat": 4,
 "nbformat_minor": 0
}
